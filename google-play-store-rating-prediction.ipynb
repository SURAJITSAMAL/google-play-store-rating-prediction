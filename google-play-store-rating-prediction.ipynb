{
 "cells": [
  {
   "cell_type": "markdown",
   "id": "44bca62a",
   "metadata": {
    "papermill": {
     "duration": 0.08119,
     "end_time": "2021-12-05T17:31:39.228471",
     "exception": false,
     "start_time": "2021-12-05T17:31:39.147281",
     "status": "completed"
    },
    "tags": []
   },
   "source": [
    "<h1><center>App Rating Prediction</center></h1>"
   ]
  },
  {
   "cell_type": "markdown",
   "id": "ac83e502",
   "metadata": {
    "papermill": {
     "duration": 0.072231,
     "end_time": "2021-12-05T17:31:39.377117",
     "exception": false,
     "start_time": "2021-12-05T17:31:39.304886",
     "status": "completed"
    },
    "tags": []
   },
   "source": [
    "•\tThis code is used to predict rating of a app in the Google play store. The given dataframe has 13 columns like App name, Size, Reviews, Price etc. These features are used to predict the rating of a app using Linear Regression process.\n",
    "•\tFirst we do the EDA Exploratory Data Analysis which involves Data wrangling and Data sanitisation process before we do univariate analysis of the features and bivariate analysis of the Target variable with respect to the features.\n",
    "•\tThe Size feature in the dataframe had some apps whose size varied upon the device, these were replaced by taking the mean size of the app according to the Category it was placed in.\n",
    "•\tThere were outliers in all numeric data types which were removed by using the boxplot and applied log transformation which reduces the skewness in the data.\n",
    "•\tThen we applied the Linear regression on the sanitised dataframe and we predict the target variable Rating.\n",
    "•\tWe find the R-Squared value to evaluate the model \n"
   ]
  },
  {
   "cell_type": "code",
   "execution_count": 1,
   "id": "c750ab4f",
   "metadata": {
    "execution": {
     "iopub.execute_input": "2021-12-05T17:31:39.535000Z",
     "iopub.status.busy": "2021-12-05T17:31:39.524108Z",
     "iopub.status.idle": "2021-12-05T17:31:40.988684Z",
     "shell.execute_reply": "2021-12-05T17:31:40.987874Z",
     "shell.execute_reply.started": "2021-12-04T14:14:00.995459Z"
    },
    "papermill": {
     "duration": 1.540188,
     "end_time": "2021-12-05T17:31:40.988850",
     "exception": false,
     "start_time": "2021-12-05T17:31:39.448662",
     "status": "completed"
    },
    "tags": []
   },
   "outputs": [],
   "source": [
    "from matplotlib import pyplot as plt\n",
    "import pandas as pd\n",
    "import numpy as np\n",
    "import seaborn as sns\n",
    "%matplotlib inline\n",
    "import warnings\n",
    "warnings.filterwarnings('ignore')\n",
    "from sklearn.linear_model import LinearRegression\n",
    "from sklearn.model_selection import train_test_split\n",
    "from sklearn.metrics import r2_score, mean_squared_error\n",
    "from mlxtend.evaluate import bias_variance_decomp"
   ]
  },
  {
   "cell_type": "markdown",
   "id": "d9394a2c",
   "metadata": {
    "papermill": {
     "duration": 0.071602,
     "end_time": "2021-12-05T17:31:41.136033",
     "exception": false,
     "start_time": "2021-12-05T17:31:41.064431",
     "status": "completed"
    },
    "tags": []
   },
   "source": [
    "## 1. Load the data file using pandas."
   ]
  },
  {
   "cell_type": "code",
   "execution_count": 2,
   "id": "95fb9c8d",
   "metadata": {
    "execution": {
     "iopub.execute_input": "2021-12-05T17:31:41.283605Z",
     "iopub.status.busy": "2021-12-05T17:31:41.282614Z",
     "iopub.status.idle": "2021-12-05T17:31:41.368109Z",
     "shell.execute_reply": "2021-12-05T17:31:41.367509Z",
     "shell.execute_reply.started": "2021-12-04T14:14:01.007279Z"
    },
    "papermill": {
     "duration": 0.160835,
     "end_time": "2021-12-05T17:31:41.368276",
     "exception": false,
     "start_time": "2021-12-05T17:31:41.207441",
     "status": "completed"
    },
    "tags": []
   },
   "outputs": [],
   "source": [
    "app=pd.read_csv('../input/google-play-store-apps/googleplaystore.csv')"
   ]
  },
  {
   "cell_type": "code",
   "execution_count": 3,
   "id": "6a55e36a",
   "metadata": {
    "execution": {
     "iopub.execute_input": "2021-12-05T17:31:41.515954Z",
     "iopub.status.busy": "2021-12-05T17:31:41.514969Z",
     "iopub.status.idle": "2021-12-05T17:31:41.555158Z",
     "shell.execute_reply": "2021-12-05T17:31:41.555702Z",
     "shell.execute_reply.started": "2021-12-04T14:14:01.070315Z"
    },
    "papermill": {
     "duration": 0.11478,
     "end_time": "2021-12-05T17:31:41.555879",
     "exception": false,
     "start_time": "2021-12-05T17:31:41.441099",
     "status": "completed"
    },
    "tags": []
   },
   "outputs": [
    {
     "name": "stdout",
     "output_type": "stream",
     "text": [
      "<class 'pandas.core.frame.DataFrame'>\n",
      "RangeIndex: 10841 entries, 0 to 10840\n",
      "Data columns (total 13 columns):\n",
      " #   Column          Non-Null Count  Dtype  \n",
      "---  ------          --------------  -----  \n",
      " 0   App             10841 non-null  object \n",
      " 1   Category        10841 non-null  object \n",
      " 2   Rating          9367 non-null   float64\n",
      " 3   Reviews         10841 non-null  object \n",
      " 4   Size            10841 non-null  object \n",
      " 5   Installs        10841 non-null  object \n",
      " 6   Type            10840 non-null  object \n",
      " 7   Price           10841 non-null  object \n",
      " 8   Content Rating  10840 non-null  object \n",
      " 9   Genres          10841 non-null  object \n",
      " 10  Last Updated    10841 non-null  object \n",
      " 11  Current Ver     10833 non-null  object \n",
      " 12  Android Ver     10838 non-null  object \n",
      "dtypes: float64(1), object(12)\n",
      "memory usage: 1.1+ MB\n"
     ]
    }
   ],
   "source": [
    "app.info()"
   ]
  },
  {
   "cell_type": "code",
   "execution_count": 4,
   "id": "bfa8ada7",
   "metadata": {
    "execution": {
     "iopub.execute_input": "2021-12-05T17:31:41.718040Z",
     "iopub.status.busy": "2021-12-05T17:31:41.716782Z",
     "iopub.status.idle": "2021-12-05T17:31:41.738066Z",
     "shell.execute_reply": "2021-12-05T17:31:41.738655Z",
     "shell.execute_reply.started": "2021-12-04T14:14:01.114006Z"
    },
    "papermill": {
     "duration": 0.106543,
     "end_time": "2021-12-05T17:31:41.738838",
     "exception": false,
     "start_time": "2021-12-05T17:31:41.632295",
     "status": "completed"
    },
    "tags": []
   },
   "outputs": [
    {
     "data": {
      "text/html": [
       "<div>\n",
       "<style scoped>\n",
       "    .dataframe tbody tr th:only-of-type {\n",
       "        vertical-align: middle;\n",
       "    }\n",
       "\n",
       "    .dataframe tbody tr th {\n",
       "        vertical-align: top;\n",
       "    }\n",
       "\n",
       "    .dataframe thead th {\n",
       "        text-align: right;\n",
       "    }\n",
       "</style>\n",
       "<table border=\"1\" class=\"dataframe\">\n",
       "  <thead>\n",
       "    <tr style=\"text-align: right;\">\n",
       "      <th></th>\n",
       "      <th>App</th>\n",
       "      <th>Category</th>\n",
       "      <th>Rating</th>\n",
       "      <th>Reviews</th>\n",
       "      <th>Size</th>\n",
       "      <th>Installs</th>\n",
       "      <th>Type</th>\n",
       "      <th>Price</th>\n",
       "      <th>Content Rating</th>\n",
       "      <th>Genres</th>\n",
       "      <th>Last Updated</th>\n",
       "      <th>Current Ver</th>\n",
       "      <th>Android Ver</th>\n",
       "    </tr>\n",
       "  </thead>\n",
       "  <tbody>\n",
       "    <tr>\n",
       "      <th>0</th>\n",
       "      <td>Photo Editor &amp; Candy Camera &amp; Grid &amp; ScrapBook</td>\n",
       "      <td>ART_AND_DESIGN</td>\n",
       "      <td>4.1</td>\n",
       "      <td>159</td>\n",
       "      <td>19M</td>\n",
       "      <td>10,000+</td>\n",
       "      <td>Free</td>\n",
       "      <td>0</td>\n",
       "      <td>Everyone</td>\n",
       "      <td>Art &amp; Design</td>\n",
       "      <td>January 7, 2018</td>\n",
       "      <td>1.0.0</td>\n",
       "      <td>4.0.3 and up</td>\n",
       "    </tr>\n",
       "    <tr>\n",
       "      <th>1</th>\n",
       "      <td>Coloring book moana</td>\n",
       "      <td>ART_AND_DESIGN</td>\n",
       "      <td>3.9</td>\n",
       "      <td>967</td>\n",
       "      <td>14M</td>\n",
       "      <td>500,000+</td>\n",
       "      <td>Free</td>\n",
       "      <td>0</td>\n",
       "      <td>Everyone</td>\n",
       "      <td>Art &amp; Design;Pretend Play</td>\n",
       "      <td>January 15, 2018</td>\n",
       "      <td>2.0.0</td>\n",
       "      <td>4.0.3 and up</td>\n",
       "    </tr>\n",
       "    <tr>\n",
       "      <th>2</th>\n",
       "      <td>U Launcher Lite – FREE Live Cool Themes, Hide ...</td>\n",
       "      <td>ART_AND_DESIGN</td>\n",
       "      <td>4.7</td>\n",
       "      <td>87510</td>\n",
       "      <td>8.7M</td>\n",
       "      <td>5,000,000+</td>\n",
       "      <td>Free</td>\n",
       "      <td>0</td>\n",
       "      <td>Everyone</td>\n",
       "      <td>Art &amp; Design</td>\n",
       "      <td>August 1, 2018</td>\n",
       "      <td>1.2.4</td>\n",
       "      <td>4.0.3 and up</td>\n",
       "    </tr>\n",
       "    <tr>\n",
       "      <th>3</th>\n",
       "      <td>Sketch - Draw &amp; Paint</td>\n",
       "      <td>ART_AND_DESIGN</td>\n",
       "      <td>4.5</td>\n",
       "      <td>215644</td>\n",
       "      <td>25M</td>\n",
       "      <td>50,000,000+</td>\n",
       "      <td>Free</td>\n",
       "      <td>0</td>\n",
       "      <td>Teen</td>\n",
       "      <td>Art &amp; Design</td>\n",
       "      <td>June 8, 2018</td>\n",
       "      <td>Varies with device</td>\n",
       "      <td>4.2 and up</td>\n",
       "    </tr>\n",
       "    <tr>\n",
       "      <th>4</th>\n",
       "      <td>Pixel Draw - Number Art Coloring Book</td>\n",
       "      <td>ART_AND_DESIGN</td>\n",
       "      <td>4.3</td>\n",
       "      <td>967</td>\n",
       "      <td>2.8M</td>\n",
       "      <td>100,000+</td>\n",
       "      <td>Free</td>\n",
       "      <td>0</td>\n",
       "      <td>Everyone</td>\n",
       "      <td>Art &amp; Design;Creativity</td>\n",
       "      <td>June 20, 2018</td>\n",
       "      <td>1.1</td>\n",
       "      <td>4.4 and up</td>\n",
       "    </tr>\n",
       "  </tbody>\n",
       "</table>\n",
       "</div>"
      ],
      "text/plain": [
       "                                                 App        Category  Rating  \\\n",
       "0     Photo Editor & Candy Camera & Grid & ScrapBook  ART_AND_DESIGN     4.1   \n",
       "1                                Coloring book moana  ART_AND_DESIGN     3.9   \n",
       "2  U Launcher Lite – FREE Live Cool Themes, Hide ...  ART_AND_DESIGN     4.7   \n",
       "3                              Sketch - Draw & Paint  ART_AND_DESIGN     4.5   \n",
       "4              Pixel Draw - Number Art Coloring Book  ART_AND_DESIGN     4.3   \n",
       "\n",
       "  Reviews  Size     Installs  Type Price Content Rating  \\\n",
       "0     159   19M      10,000+  Free     0       Everyone   \n",
       "1     967   14M     500,000+  Free     0       Everyone   \n",
       "2   87510  8.7M   5,000,000+  Free     0       Everyone   \n",
       "3  215644   25M  50,000,000+  Free     0           Teen   \n",
       "4     967  2.8M     100,000+  Free     0       Everyone   \n",
       "\n",
       "                      Genres      Last Updated         Current Ver  \\\n",
       "0               Art & Design   January 7, 2018               1.0.0   \n",
       "1  Art & Design;Pretend Play  January 15, 2018               2.0.0   \n",
       "2               Art & Design    August 1, 2018               1.2.4   \n",
       "3               Art & Design      June 8, 2018  Varies with device   \n",
       "4    Art & Design;Creativity     June 20, 2018                 1.1   \n",
       "\n",
       "    Android Ver  \n",
       "0  4.0.3 and up  \n",
       "1  4.0.3 and up  \n",
       "2  4.0.3 and up  \n",
       "3    4.2 and up  \n",
       "4    4.4 and up  "
      ]
     },
     "execution_count": 4,
     "metadata": {},
     "output_type": "execute_result"
    }
   ],
   "source": [
    "app.head()"
   ]
  },
  {
   "cell_type": "code",
   "execution_count": 5,
   "id": "be3c612f",
   "metadata": {
    "execution": {
     "iopub.execute_input": "2021-12-05T17:31:41.899501Z",
     "iopub.status.busy": "2021-12-05T17:31:41.898676Z",
     "iopub.status.idle": "2021-12-05T17:31:41.901871Z",
     "shell.execute_reply": "2021-12-05T17:31:41.902418Z",
     "shell.execute_reply.started": "2021-12-04T14:14:01.140933Z"
    },
    "papermill": {
     "duration": 0.086754,
     "end_time": "2021-12-05T17:31:41.902595",
     "exception": false,
     "start_time": "2021-12-05T17:31:41.815841",
     "status": "completed"
    },
    "tags": []
   },
   "outputs": [
    {
     "data": {
      "text/plain": [
       "(10841, 13)"
      ]
     },
     "execution_count": 5,
     "metadata": {},
     "output_type": "execute_result"
    }
   ],
   "source": [
    "app.shape"
   ]
  },
  {
   "cell_type": "markdown",
   "id": "3ef5325f",
   "metadata": {
    "papermill": {
     "duration": 0.075852,
     "end_time": "2021-12-05T17:31:42.054630",
     "exception": false,
     "start_time": "2021-12-05T17:31:41.978778",
     "status": "completed"
    },
    "tags": []
   },
   "source": [
    "## 2. Check for null values in the data. Get the number of null values for each column."
   ]
  },
  {
   "cell_type": "code",
   "execution_count": 6,
   "id": "faa6e786",
   "metadata": {
    "execution": {
     "iopub.execute_input": "2021-12-05T17:31:42.209059Z",
     "iopub.status.busy": "2021-12-05T17:31:42.208089Z",
     "iopub.status.idle": "2021-12-05T17:31:42.230871Z",
     "shell.execute_reply": "2021-12-05T17:31:42.231433Z",
     "shell.execute_reply.started": "2021-12-04T14:14:01.147387Z"
    },
    "papermill": {
     "duration": 0.100397,
     "end_time": "2021-12-05T17:31:42.231613",
     "exception": false,
     "start_time": "2021-12-05T17:31:42.131216",
     "status": "completed"
    },
    "tags": []
   },
   "outputs": [
    {
     "data": {
      "text/plain": [
       "App                  0\n",
       "Category             0\n",
       "Rating            1474\n",
       "Reviews              0\n",
       "Size                 0\n",
       "Installs             0\n",
       "Type                 1\n",
       "Price                0\n",
       "Content Rating       1\n",
       "Genres               0\n",
       "Last Updated         0\n",
       "Current Ver          8\n",
       "Android Ver          3\n",
       "dtype: int64"
      ]
     },
     "execution_count": 6,
     "metadata": {},
     "output_type": "execute_result"
    }
   ],
   "source": [
    "app.isnull().sum()"
   ]
  },
  {
   "cell_type": "markdown",
   "id": "c7b50293",
   "metadata": {
    "papermill": {
     "duration": 0.074392,
     "end_time": "2021-12-05T17:31:42.378731",
     "exception": false,
     "start_time": "2021-12-05T17:31:42.304339",
     "status": "completed"
    },
    "tags": []
   },
   "source": [
    "## 3. Drop records with nulls in any of the columns."
   ]
  },
  {
   "cell_type": "code",
   "execution_count": 7,
   "id": "ad3b5a7f",
   "metadata": {
    "execution": {
     "iopub.execute_input": "2021-12-05T17:31:42.528619Z",
     "iopub.status.busy": "2021-12-05T17:31:42.527566Z",
     "iopub.status.idle": "2021-12-05T17:31:42.568973Z",
     "shell.execute_reply": "2021-12-05T17:31:42.568414Z",
     "shell.execute_reply.started": "2021-12-04T14:14:01.178927Z"
    },
    "papermill": {
     "duration": 0.117515,
     "end_time": "2021-12-05T17:31:42.569148",
     "exception": false,
     "start_time": "2021-12-05T17:31:42.451633",
     "status": "completed"
    },
    "tags": []
   },
   "outputs": [
    {
     "data": {
      "text/plain": [
       "(9360, 13)"
      ]
     },
     "execution_count": 7,
     "metadata": {},
     "output_type": "execute_result"
    }
   ],
   "source": [
    "app.dropna(inplace= True)\n",
    "app.isnull().sum()\n",
    "app.shape"
   ]
  },
  {
   "cell_type": "markdown",
   "id": "8d15ee55",
   "metadata": {
    "papermill": {
     "duration": 0.072353,
     "end_time": "2021-12-05T17:31:42.715997",
     "exception": false,
     "start_time": "2021-12-05T17:31:42.643644",
     "status": "completed"
    },
    "tags": []
   },
   "source": [
    "## 4.Variables seem to have incorrect type and inconsistent formatting. Need to fix them."
   ]
  },
  {
   "cell_type": "markdown",
   "id": "7eeca41f",
   "metadata": {
    "papermill": {
     "duration": 0.07218,
     "end_time": "2021-12-05T17:31:42.862641",
     "exception": false,
     "start_time": "2021-12-05T17:31:42.790461",
     "status": "completed"
    },
    "tags": []
   },
   "source": [
    "### 1.Converting Size into numeric"
   ]
  },
  {
   "cell_type": "code",
   "execution_count": 8,
   "id": "5bd56b21",
   "metadata": {
    "execution": {
     "iopub.execute_input": "2021-12-05T17:31:43.014600Z",
     "iopub.status.busy": "2021-12-05T17:31:43.013597Z",
     "iopub.status.idle": "2021-12-05T17:31:43.022142Z",
     "shell.execute_reply": "2021-12-05T17:31:43.022608Z",
     "shell.execute_reply.started": "2021-12-04T14:14:01.223444Z"
    },
    "papermill": {
     "duration": 0.08709,
     "end_time": "2021-12-05T17:31:43.022788",
     "exception": false,
     "start_time": "2021-12-05T17:31:42.935698",
     "status": "completed"
    },
    "tags": []
   },
   "outputs": [
    {
     "data": {
      "text/plain": [
       "Varies with device    1637\n",
       "14M                    165\n",
       "12M                    161\n",
       "15M                    159\n",
       "11M                    159\n",
       "                      ... \n",
       "383k                     1\n",
       "454k                     1\n",
       "812k                     1\n",
       "442k                     1\n",
       "619k                     1\n",
       "Name: Size, Length: 413, dtype: int64"
      ]
     },
     "execution_count": 8,
     "metadata": {},
     "output_type": "execute_result"
    }
   ],
   "source": [
    "app.Size.value_counts()"
   ]
  },
  {
   "cell_type": "code",
   "execution_count": 9,
   "id": "48be4ed2",
   "metadata": {
    "execution": {
     "iopub.execute_input": "2021-12-05T17:31:43.175027Z",
     "iopub.status.busy": "2021-12-05T17:31:43.174026Z",
     "iopub.status.idle": "2021-12-05T17:31:43.178847Z",
     "shell.execute_reply": "2021-12-05T17:31:43.179385Z",
     "shell.execute_reply.started": "2021-12-04T14:14:01.234997Z"
    },
    "papermill": {
     "duration": 0.082156,
     "end_time": "2021-12-05T17:31:43.179561",
     "exception": false,
     "start_time": "2021-12-05T17:31:43.097405",
     "status": "completed"
    },
    "tags": []
   },
   "outputs": [],
   "source": [
    "def Mb_to_kb(size):\n",
    "     if size.endswith('k'):\n",
    "         return float(size[:-1])\n",
    "     elif size.endswith('M'):\n",
    "         return float(size[:-1])*1000\n",
    "     else:\n",
    "         return size"
   ]
  },
  {
   "cell_type": "code",
   "execution_count": 10,
   "id": "be0464a3",
   "metadata": {
    "execution": {
     "iopub.execute_input": "2021-12-05T17:31:43.329839Z",
     "iopub.status.busy": "2021-12-05T17:31:43.328785Z",
     "iopub.status.idle": "2021-12-05T17:31:43.353926Z",
     "shell.execute_reply": "2021-12-05T17:31:43.354477Z",
     "shell.execute_reply.started": "2021-12-04T14:14:01.245574Z"
    },
    "papermill": {
     "duration": 0.102058,
     "end_time": "2021-12-05T17:31:43.354666",
     "exception": false,
     "start_time": "2021-12-05T17:31:43.252608",
     "status": "completed"
    },
    "tags": []
   },
   "outputs": [],
   "source": [
    "app['Size'] = app['Size'].replace(['Varies with device'],'Nan')\n",
    "app['Size'] = app['Size'].apply(lambda x: Mb_to_kb(x))\n",
    "app['Size'] = app['Size'].astype(float)\n",
    "app['Size'].fillna(app.groupby('Category')['Size'].transform('mean'),inplace = True)"
   ]
  },
  {
   "cell_type": "markdown",
   "id": "fdf1cab0",
   "metadata": {
    "papermill": {
     "duration": 0.072894,
     "end_time": "2021-12-05T17:31:43.501364",
     "exception": false,
     "start_time": "2021-12-05T17:31:43.428470",
     "status": "completed"
    },
    "tags": []
   },
   "source": [
    "### 2.Converting Reviews into numeric"
   ]
  },
  {
   "cell_type": "code",
   "execution_count": 11,
   "id": "d3fec308",
   "metadata": {
    "execution": {
     "iopub.execute_input": "2021-12-05T17:31:43.651798Z",
     "iopub.status.busy": "2021-12-05T17:31:43.650817Z",
     "iopub.status.idle": "2021-12-05T17:31:43.657848Z",
     "shell.execute_reply": "2021-12-05T17:31:43.658478Z",
     "shell.execute_reply.started": "2021-12-04T14:14:01.279529Z"
    },
    "papermill": {
     "duration": 0.084237,
     "end_time": "2021-12-05T17:31:43.658649",
     "exception": false,
     "start_time": "2021-12-05T17:31:43.574412",
     "status": "completed"
    },
    "tags": []
   },
   "outputs": [],
   "source": [
    "app['Reviews']=app[\"Reviews\"].astype(int)"
   ]
  },
  {
   "cell_type": "markdown",
   "id": "52df1826",
   "metadata": {
    "papermill": {
     "duration": 0.07433,
     "end_time": "2021-12-05T17:31:43.806561",
     "exception": false,
     "start_time": "2021-12-05T17:31:43.732231",
     "status": "completed"
    },
    "tags": []
   },
   "source": [
    "### 3.Converting Installs into numeric\n",
    "Installs field is currently stored as string and has values like 1,000,000+. \n",
    "Treat 1,000,000+ as 1,000,000\n",
    "remove ‘+’, ‘,’ from the field, convert it to integer"
   ]
  },
  {
   "cell_type": "code",
   "execution_count": 12,
   "id": "a9ca8a0e",
   "metadata": {
    "execution": {
     "iopub.execute_input": "2021-12-05T17:31:43.956381Z",
     "iopub.status.busy": "2021-12-05T17:31:43.955375Z",
     "iopub.status.idle": "2021-12-05T17:31:43.973388Z",
     "shell.execute_reply": "2021-12-05T17:31:43.973917Z",
     "shell.execute_reply.started": "2021-12-04T14:14:01.287979Z"
    },
    "papermill": {
     "duration": 0.094513,
     "end_time": "2021-12-05T17:31:43.974108",
     "exception": false,
     "start_time": "2021-12-05T17:31:43.879595",
     "status": "completed"
    },
    "tags": []
   },
   "outputs": [],
   "source": [
    "app['Installs']=app['Installs'].apply(lambda x:x.replace(\",\",''))\n",
    "app['Installs']=app['Installs'].apply(lambda x:x.replace(\"+\",''))\n",
    "app['Installs']=app['Installs'].astype(int)"
   ]
  },
  {
   "cell_type": "markdown",
   "id": "cf9ffd21",
   "metadata": {
    "papermill": {
     "duration": 0.074935,
     "end_time": "2021-12-05T17:31:44.124356",
     "exception": false,
     "start_time": "2021-12-05T17:31:44.049421",
     "status": "completed"
    },
    "tags": []
   },
   "source": [
    "### 4. Converting Price into numeric "
   ]
  },
  {
   "cell_type": "code",
   "execution_count": 13,
   "id": "01c9ea10",
   "metadata": {
    "execution": {
     "iopub.execute_input": "2021-12-05T17:31:44.276382Z",
     "iopub.status.busy": "2021-12-05T17:31:44.275381Z",
     "iopub.status.idle": "2021-12-05T17:31:44.287423Z",
     "shell.execute_reply": "2021-12-05T17:31:44.287952Z",
     "shell.execute_reply.started": "2021-12-04T14:14:01.315132Z"
    },
    "papermill": {
     "duration": 0.090557,
     "end_time": "2021-12-05T17:31:44.288147",
     "exception": false,
     "start_time": "2021-12-05T17:31:44.197590",
     "status": "completed"
    },
    "tags": []
   },
   "outputs": [],
   "source": [
    "app['Price']=app['Price'].apply(lambda x:x.replace(\"$\",''))\n",
    "app['Price']=app['Price'].astype(float)"
   ]
  },
  {
   "cell_type": "markdown",
   "id": "8ab5df54",
   "metadata": {
    "papermill": {
     "duration": 0.072818,
     "end_time": "2021-12-05T17:31:44.436523",
     "exception": false,
     "start_time": "2021-12-05T17:31:44.363705",
     "status": "completed"
    },
    "tags": []
   },
   "source": [
    "## 5. Sanity checks:"
   ]
  },
  {
   "cell_type": "markdown",
   "id": "f749b508",
   "metadata": {
    "papermill": {
     "duration": 0.073317,
     "end_time": "2021-12-05T17:31:44.583762",
     "exception": false,
     "start_time": "2021-12-05T17:31:44.510445",
     "status": "completed"
    },
    "tags": []
   },
   "source": [
    "### 1.Rating between 1 and 5\n",
    "Average rating should be between 1 and 5 as only these values are allowed on the play store. Dropping the rows that have a value outside this range."
   ]
  },
  {
   "cell_type": "code",
   "execution_count": 14,
   "id": "774ad44d",
   "metadata": {
    "execution": {
     "iopub.execute_input": "2021-12-05T17:31:44.733792Z",
     "iopub.status.busy": "2021-12-05T17:31:44.732775Z",
     "iopub.status.idle": "2021-12-05T17:31:44.739895Z",
     "shell.execute_reply": "2021-12-05T17:31:44.740540Z",
     "shell.execute_reply.started": "2021-12-04T14:14:01.333892Z"
    },
    "papermill": {
     "duration": 0.083677,
     "end_time": "2021-12-05T17:31:44.740731",
     "exception": false,
     "start_time": "2021-12-05T17:31:44.657054",
     "status": "completed"
    },
    "tags": []
   },
   "outputs": [
    {
     "data": {
      "text/plain": [
       "0"
      ]
     },
     "execution_count": 14,
     "metadata": {},
     "output_type": "execute_result"
    }
   ],
   "source": [
    "len(app[(app['Rating'] < 1) & (app['Rating'] > 5)])"
   ]
  },
  {
   "cell_type": "code",
   "execution_count": 15,
   "id": "3ef8ac30",
   "metadata": {
    "execution": {
     "iopub.execute_input": "2021-12-05T17:31:44.892971Z",
     "iopub.status.busy": "2021-12-05T17:31:44.892304Z",
     "iopub.status.idle": "2021-12-05T17:31:44.897846Z",
     "shell.execute_reply": "2021-12-05T17:31:44.897213Z",
     "shell.execute_reply.started": "2021-12-04T14:14:01.345128Z"
    },
    "papermill": {
     "duration": 0.081873,
     "end_time": "2021-12-05T17:31:44.897984",
     "exception": false,
     "start_time": "2021-12-05T17:31:44.816111",
     "status": "completed"
    },
    "tags": []
   },
   "outputs": [
    {
     "data": {
      "text/plain": [
       "(9360, 13)"
      ]
     },
     "execution_count": 15,
     "metadata": {},
     "output_type": "execute_result"
    }
   ],
   "source": [
    "app.shape"
   ]
  },
  {
   "cell_type": "markdown",
   "id": "ed46ba51",
   "metadata": {
    "papermill": {
     "duration": 0.07598,
     "end_time": "2021-12-05T17:31:45.047950",
     "exception": false,
     "start_time": "2021-12-05T17:31:44.971970",
     "status": "completed"
    },
    "tags": []
   },
   "source": [
    "### 2.Reviews and Installs\n",
    "Reviews and Installs should not be more than installs as only those who installed can review the app.\n",
    "Dropping those Reviews more than Installs"
   ]
  },
  {
   "cell_type": "code",
   "execution_count": 16,
   "id": "493a7c8c",
   "metadata": {
    "execution": {
     "iopub.execute_input": "2021-12-05T17:31:45.204771Z",
     "iopub.status.busy": "2021-12-05T17:31:45.204017Z",
     "iopub.status.idle": "2021-12-05T17:31:45.206636Z",
     "shell.execute_reply": "2021-12-05T17:31:45.207171Z",
     "shell.execute_reply.started": "2021-12-04T14:14:01.356725Z"
    },
    "papermill": {
     "duration": 0.082994,
     "end_time": "2021-12-05T17:31:45.207343",
     "exception": false,
     "start_time": "2021-12-05T17:31:45.124349",
     "status": "completed"
    },
    "tags": []
   },
   "outputs": [
    {
     "data": {
      "text/plain": [
       "7"
      ]
     },
     "execution_count": 16,
     "metadata": {},
     "output_type": "execute_result"
    }
   ],
   "source": [
    "len(app[app.Installs<app.Reviews])"
   ]
  },
  {
   "cell_type": "code",
   "execution_count": 17,
   "id": "b6dcb587",
   "metadata": {
    "execution": {
     "iopub.execute_input": "2021-12-05T17:31:45.367041Z",
     "iopub.status.busy": "2021-12-05T17:31:45.366376Z",
     "iopub.status.idle": "2021-12-05T17:31:45.367910Z",
     "shell.execute_reply": "2021-12-05T17:31:45.368528Z",
     "shell.execute_reply.started": "2021-12-04T14:14:01.370634Z"
    },
    "papermill": {
     "duration": 0.085687,
     "end_time": "2021-12-05T17:31:45.368712",
     "exception": false,
     "start_time": "2021-12-05T17:31:45.283025",
     "status": "completed"
    },
    "tags": []
   },
   "outputs": [],
   "source": [
    "i3=app[app.Installs<app.Reviews].Installs.index"
   ]
  },
  {
   "cell_type": "code",
   "execution_count": 18,
   "id": "4a3ad607",
   "metadata": {
    "execution": {
     "iopub.execute_input": "2021-12-05T17:31:45.526901Z",
     "iopub.status.busy": "2021-12-05T17:31:45.526190Z",
     "iopub.status.idle": "2021-12-05T17:31:45.531858Z",
     "shell.execute_reply": "2021-12-05T17:31:45.532404Z",
     "shell.execute_reply.started": "2021-12-04T14:14:01.381249Z"
    },
    "papermill": {
     "duration": 0.086206,
     "end_time": "2021-12-05T17:31:45.532582",
     "exception": false,
     "start_time": "2021-12-05T17:31:45.446376",
     "status": "completed"
    },
    "tags": []
   },
   "outputs": [],
   "source": [
    "app.drop(axis=0 ,index=i3, inplace=True)"
   ]
  },
  {
   "cell_type": "code",
   "execution_count": 19,
   "id": "59ff9ce6",
   "metadata": {
    "execution": {
     "iopub.execute_input": "2021-12-05T17:31:45.685653Z",
     "iopub.status.busy": "2021-12-05T17:31:45.684982Z",
     "iopub.status.idle": "2021-12-05T17:31:45.689550Z",
     "shell.execute_reply": "2021-12-05T17:31:45.690105Z",
     "shell.execute_reply.started": "2021-12-04T14:14:01.3964Z"
    },
    "papermill": {
     "duration": 0.083499,
     "end_time": "2021-12-05T17:31:45.690278",
     "exception": false,
     "start_time": "2021-12-05T17:31:45.606779",
     "status": "completed"
    },
    "tags": []
   },
   "outputs": [
    {
     "data": {
      "text/plain": [
       "(9353, 13)"
      ]
     },
     "execution_count": 19,
     "metadata": {},
     "output_type": "execute_result"
    }
   ],
   "source": [
    "app.shape"
   ]
  },
  {
   "cell_type": "markdown",
   "id": "2569a76b",
   "metadata": {
    "papermill": {
     "duration": 0.076743,
     "end_time": "2021-12-05T17:31:45.843707",
     "exception": false,
     "start_time": "2021-12-05T17:31:45.766964",
     "status": "completed"
    },
    "tags": []
   },
   "source": [
    "### 3.Price\n",
    "For free apps (type = “Free”), the price should not be >0\n",
    "Dropping any such rows."
   ]
  },
  {
   "cell_type": "code",
   "execution_count": 20,
   "id": "0ec1515c",
   "metadata": {
    "execution": {
     "iopub.execute_input": "2021-12-05T17:31:45.995521Z",
     "iopub.status.busy": "2021-12-05T17:31:45.994813Z",
     "iopub.status.idle": "2021-12-05T17:31:46.003153Z",
     "shell.execute_reply": "2021-12-05T17:31:46.003679Z",
     "shell.execute_reply.started": "2021-12-04T14:14:01.406847Z"
    },
    "papermill": {
     "duration": 0.085799,
     "end_time": "2021-12-05T17:31:46.003852",
     "exception": false,
     "start_time": "2021-12-05T17:31:45.918053",
     "status": "completed"
    },
    "tags": []
   },
   "outputs": [
    {
     "data": {
      "text/plain": [
       "0"
      ]
     },
     "execution_count": 20,
     "metadata": {},
     "output_type": "execute_result"
    }
   ],
   "source": [
    "len(app[(app['Type'] == 'Free') & (app['Price'] != 0)])\n"
   ]
  },
  {
   "cell_type": "markdown",
   "id": "50ec3064",
   "metadata": {
    "papermill": {
     "duration": 0.076425,
     "end_time": "2021-12-05T17:31:46.155769",
     "exception": false,
     "start_time": "2021-12-05T17:31:46.079344",
     "status": "completed"
    },
    "tags": []
   },
   "source": [
    "## 5.Performing univariate analysis."
   ]
  },
  {
   "cell_type": "markdown",
   "id": "9709b889",
   "metadata": {
    "papermill": {
     "duration": 0.074709,
     "end_time": "2021-12-05T17:31:46.305303",
     "exception": false,
     "start_time": "2021-12-05T17:31:46.230594",
     "status": "completed"
    },
    "tags": []
   },
   "source": [
    "### > Boxplot for Price"
   ]
  },
  {
   "cell_type": "code",
   "execution_count": 21,
   "id": "7b67ef76",
   "metadata": {
    "execution": {
     "iopub.execute_input": "2021-12-05T17:31:46.465248Z",
     "iopub.status.busy": "2021-12-05T17:31:46.462348Z",
     "iopub.status.idle": "2021-12-05T17:31:46.705829Z",
     "shell.execute_reply": "2021-12-05T17:31:46.706317Z",
     "shell.execute_reply.started": "2021-12-04T14:14:01.422865Z"
    },
    "papermill": {
     "duration": 0.325311,
     "end_time": "2021-12-05T17:31:46.706498",
     "exception": false,
     "start_time": "2021-12-05T17:31:46.381187",
     "status": "completed"
    },
    "tags": []
   },
   "outputs": [
    {
     "data": {
      "image/png": "[encoded data removed]",
      "text/plain": [
       "<Figure size 1152x432 with 1 Axes>"
      ]
     },
     "metadata": {
      "needs_background": "light"
     },
     "output_type": "display_data"
    }
   ],
   "source": [
    "plt.figure(figsize=(16, 6))\n",
    "b=sns.boxplot(app.Price)\n",
    "b.axes.set_title(\"Price Boxplot\",fontsize=30)\n",
    "b.set_xlabel(\"Price(USD)\",fontsize=20)\n",
    "b.tick_params(labelsize=15)"
   ]
  },
  {
   "cell_type": "markdown",
   "id": "f64e71a6",
   "metadata": {
    "papermill": {
     "duration": 0.077673,
     "end_time": "2021-12-05T17:31:46.859852",
     "exception": false,
     "start_time": "2021-12-05T17:31:46.782179",
     "status": "completed"
    },
    "tags": []
   },
   "source": [
    "\n",
    "There are outliers in the Price,app prices are usually free or below $10."
   ]
  },
  {
   "cell_type": "markdown",
   "id": "a9785a0b",
   "metadata": {
    "papermill": {
     "duration": 0.076468,
     "end_time": "2021-12-05T17:31:47.014778",
     "exception": false,
     "start_time": "2021-12-05T17:31:46.938310",
     "status": "completed"
    },
    "tags": []
   },
   "source": [
    "### > Boxplot for Reviews"
   ]
  },
  {
   "cell_type": "code",
   "execution_count": 22,
   "id": "7d346179",
   "metadata": {
    "execution": {
     "iopub.execute_input": "2021-12-05T17:31:47.176235Z",
     "iopub.status.busy": "2021-12-05T17:31:47.175177Z",
     "iopub.status.idle": "2021-12-05T17:31:47.389433Z",
     "shell.execute_reply": "2021-12-05T17:31:47.389886Z",
     "shell.execute_reply.started": "2021-12-04T14:14:01.674048Z"
    },
    "papermill": {
     "duration": 0.297622,
     "end_time": "2021-12-05T17:31:47.390064",
     "exception": false,
     "start_time": "2021-12-05T17:31:47.092442",
     "status": "completed"
    },
    "tags": []
   },
   "outputs": [
    {
     "data": {
      "image/png": "[encoded data removed]",
      "text/plain": [
       "<Figure size 1152x432 with 1 Axes>"
      ]
     },
     "metadata": {
      "needs_background": "light"
     },
     "output_type": "display_data"
    }
   ],
   "source": [
    "plt.figure(figsize=(16, 6))\n",
    "b=sns.boxplot(app.Reviews)\n",
    "b.axes.set_title(\"Reviews\",fontsize=30)\n",
    "b.set_xlabel(\"Number of Reviews\",fontsize=20)\n",
    "b.tick_params(labelsize=15)"
   ]
  },
  {
   "cell_type": "markdown",
   "id": "eab3445b",
   "metadata": {
    "papermill": {
     "duration": 0.079256,
     "end_time": "2021-12-05T17:31:47.548638",
     "exception": false,
     "start_time": "2021-12-05T17:31:47.469382",
     "status": "completed"
    },
    "tags": []
   },
   "source": [
    "There are some apps with very high number of reviews, they dont seem right as most app have reviews less than 100,000."
   ]
  },
  {
   "cell_type": "markdown",
   "id": "f7a8ee3a",
   "metadata": {
    "papermill": {
     "duration": 0.081089,
     "end_time": "2021-12-05T17:31:47.706927",
     "exception": false,
     "start_time": "2021-12-05T17:31:47.625838",
     "status": "completed"
    },
    "tags": []
   },
   "source": [
    "### > Histogram for Rating"
   ]
  },
  {
   "cell_type": "code",
   "execution_count": 23,
   "id": "4af91abb",
   "metadata": {
    "execution": {
     "iopub.execute_input": "2021-12-05T17:31:47.874479Z",
     "iopub.status.busy": "2021-12-05T17:31:47.873798Z",
     "iopub.status.idle": "2021-12-05T17:31:48.318335Z",
     "shell.execute_reply": "2021-12-05T17:31:48.317756Z",
     "shell.execute_reply.started": "2021-12-04T14:14:01.890384Z"
    },
    "papermill": {
     "duration": 0.526472,
     "end_time": "2021-12-05T17:31:48.318480",
     "exception": false,
     "start_time": "2021-12-05T17:31:47.792008",
     "status": "completed"
    },
    "tags": []
   },
   "outputs": [
    {
     "data": {
      "image/png": "[encoded data removed]",
      "text/plain": [
       "<Figure size 1152x432 with 1 Axes>"
      ]
     },
     "metadata": {
      "needs_background": "light"
     },
     "output_type": "display_data"
    }
   ],
   "source": [
    "plt.figure(figsize=(16, 6))\n",
    "h=sns.histplot(app.Rating,bins=60,kde=True)\n",
    "h.axes.set_title(\"Rating\",fontsize=30)\n",
    "h.set_xlabel(\"Rating\",fontsize=20)\n",
    "h.set_ylabel(\"Count\",fontsize=20)\n",
    "h.tick_params(labelsize=15)"
   ]
  },
  {
   "cell_type": "markdown",
   "id": "1505d764",
   "metadata": {
    "papermill": {
     "duration": 0.080625,
     "end_time": "2021-12-05T17:31:48.479488",
     "exception": false,
     "start_time": "2021-12-05T17:31:48.398863",
     "status": "completed"
    },
    "tags": []
   },
   "source": [
    "The ratings are normally distributed but they are left skewed and are towards higher ratings"
   ]
  },
  {
   "cell_type": "markdown",
   "id": "b30ca599",
   "metadata": {
    "papermill": {
     "duration": 0.079546,
     "end_time": "2021-12-05T17:31:48.637543",
     "exception": false,
     "start_time": "2021-12-05T17:31:48.557997",
     "status": "completed"
    },
    "tags": []
   },
   "source": [
    "### > Histogram for Size"
   ]
  },
  {
   "cell_type": "code",
   "execution_count": 24,
   "id": "12ad4a36",
   "metadata": {
    "execution": {
     "iopub.execute_input": "2021-12-05T17:31:48.816452Z",
     "iopub.status.busy": "2021-12-05T17:31:48.815407Z",
     "iopub.status.idle": "2021-12-05T17:31:49.232009Z",
     "shell.execute_reply": "2021-12-05T17:31:49.232501Z",
     "shell.execute_reply.started": "2021-12-04T14:14:02.344393Z"
    },
    "papermill": {
     "duration": 0.514502,
     "end_time": "2021-12-05T17:31:49.232690",
     "exception": false,
     "start_time": "2021-12-05T17:31:48.718188",
     "status": "completed"
    },
    "tags": []
   },
   "outputs": [
    {
     "data": {
      "image/png": "[encoded data removed]",
      "text/plain": [
       "<Figure size 1152x432 with 1 Axes>"
      ]
     },
     "metadata": {
      "needs_background": "light"
     },
     "output_type": "display_data"
    }
   ],
   "source": [
    "plt.figure(figsize=(16, 6))\n",
    "h=sns.histplot(app.Size,bins=50,kde=True)\n",
    "h.axes.set_title(\"Size of the App\",fontsize=30)\n",
    "h.set_xlabel(\"Size(Kb)\",fontsize=20)\n",
    "h.set_ylabel(\"Count\",fontsize=20)\n",
    "h.tick_params(labelsize=15)"
   ]
  },
  {
   "cell_type": "markdown",
   "id": "c19c68bf",
   "metadata": {
    "papermill": {
     "duration": 0.086057,
     "end_time": "2021-12-05T17:31:49.402874",
     "exception": false,
     "start_time": "2021-12-05T17:31:49.316817",
     "status": "completed"
    },
    "tags": []
   },
   "source": [
    "There are outliers in all the above plots"
   ]
  },
  {
   "cell_type": "markdown",
   "id": "af984530",
   "metadata": {
    "papermill": {
     "duration": 0.087628,
     "end_time": "2021-12-05T17:31:49.576472",
     "exception": false,
     "start_time": "2021-12-05T17:31:49.488844",
     "status": "completed"
    },
    "tags": []
   },
   "source": [
    "## 6. Outlier treatment"
   ]
  },
  {
   "cell_type": "markdown",
   "id": "2abb4401",
   "metadata": {
    "papermill": {
     "duration": 0.078836,
     "end_time": "2021-12-05T17:31:49.759531",
     "exception": false,
     "start_time": "2021-12-05T17:31:49.680695",
     "status": "completed"
    },
    "tags": []
   },
   "source": [
    "### 1.Price: \n",
    "From the box plot, it seems like there are some apps with very high price. A price of $200 for an application on the Play Store is very high and suspicious.\n",
    "Checking out the records with very high price and dropping such high priced apps"
   ]
  },
  {
   "cell_type": "code",
   "execution_count": 25,
   "id": "473d2018",
   "metadata": {
    "execution": {
     "iopub.execute_input": "2021-12-05T17:31:49.927509Z",
     "iopub.status.busy": "2021-12-05T17:31:49.926506Z",
     "iopub.status.idle": "2021-12-05T17:31:49.935704Z",
     "shell.execute_reply": "2021-12-05T17:31:49.936257Z",
     "shell.execute_reply.started": "2021-12-04T14:14:02.742059Z"
    },
    "papermill": {
     "duration": 0.095861,
     "end_time": "2021-12-05T17:31:49.936426",
     "exception": false,
     "start_time": "2021-12-05T17:31:49.840565",
     "status": "completed"
    },
    "tags": []
   },
   "outputs": [
    {
     "data": {
      "text/plain": [
       "0.10    0.00\n",
       "0.25    0.00\n",
       "0.50    0.00\n",
       "0.75    0.00\n",
       "0.90    0.00\n",
       "0.95    1.99\n",
       "0.99    8.99\n",
       "Name: Price, dtype: float64"
      ]
     },
     "execution_count": 25,
     "metadata": {},
     "output_type": "execute_result"
    }
   ],
   "source": [
    "app.Price.quantile([0.1,0.25,0.50,0.75,0.90,0.95,0.99])"
   ]
  },
  {
   "cell_type": "code",
   "execution_count": 26,
   "id": "513a40b6",
   "metadata": {
    "execution": {
     "iopub.execute_input": "2021-12-05T17:31:50.103038Z",
     "iopub.status.busy": "2021-12-05T17:31:50.102034Z",
     "iopub.status.idle": "2021-12-05T17:31:50.108441Z",
     "shell.execute_reply": "2021-12-05T17:31:50.108884Z",
     "shell.execute_reply.started": "2021-12-04T14:14:02.756768Z"
    },
    "papermill": {
     "duration": 0.090265,
     "end_time": "2021-12-05T17:31:50.109056",
     "exception": false,
     "start_time": "2021-12-05T17:31:50.018791",
     "status": "completed"
    },
    "tags": []
   },
   "outputs": [
    {
     "data": {
      "text/plain": [
       "15"
      ]
     },
     "execution_count": 26,
     "metadata": {},
     "output_type": "execute_result"
    }
   ],
   "source": [
    "len(app[app.Price >=200])"
   ]
  },
  {
   "cell_type": "code",
   "execution_count": 27,
   "id": "210414c8",
   "metadata": {
    "execution": {
     "iopub.execute_input": "2021-12-05T17:31:50.273899Z",
     "iopub.status.busy": "2021-12-05T17:31:50.272774Z",
     "iopub.status.idle": "2021-12-05T17:31:50.278808Z",
     "shell.execute_reply": "2021-12-05T17:31:50.279369Z",
     "shell.execute_reply.started": "2021-12-04T14:14:02.771781Z"
    },
    "papermill": {
     "duration": 0.089736,
     "end_time": "2021-12-05T17:31:50.279544",
     "exception": false,
     "start_time": "2021-12-05T17:31:50.189808",
     "status": "completed"
    },
    "tags": []
   },
   "outputs": [
    {
     "data": {
      "text/plain": [
       "0.9614669090131416"
      ]
     },
     "execution_count": 27,
     "metadata": {},
     "output_type": "execute_result"
    }
   ],
   "source": [
    "app.Price.mean()"
   ]
  },
  {
   "cell_type": "markdown",
   "id": "cfe8b077",
   "metadata": {
    "papermill": {
     "duration": 0.081891,
     "end_time": "2021-12-05T17:31:50.443119",
     "exception": false,
     "start_time": "2021-12-05T17:31:50.361228",
     "status": "completed"
    },
    "tags": []
   },
   "source": [
    "The mean Price of all the apps is $ 0.96, $ 200 is indeed very high price for a app."
   ]
  },
  {
   "cell_type": "code",
   "execution_count": 28,
   "id": "702a2c8e",
   "metadata": {
    "execution": {
     "iopub.execute_input": "2021-12-05T17:31:50.611984Z",
     "iopub.status.busy": "2021-12-05T17:31:50.610972Z",
     "iopub.status.idle": "2021-12-05T17:31:50.616967Z",
     "shell.execute_reply": "2021-12-05T17:31:50.616360Z",
     "shell.execute_reply.started": "2021-12-04T14:14:02.780787Z"
    },
    "papermill": {
     "duration": 0.092596,
     "end_time": "2021-12-05T17:31:50.617134",
     "exception": false,
     "start_time": "2021-12-05T17:31:50.524538",
     "status": "completed"
    },
    "tags": []
   },
   "outputs": [],
   "source": [
    "i7=app[app.Price >=200].Price.index"
   ]
  },
  {
   "cell_type": "code",
   "execution_count": 29,
   "id": "702a2932",
   "metadata": {
    "execution": {
     "iopub.execute_input": "2021-12-05T17:31:50.785330Z",
     "iopub.status.busy": "2021-12-05T17:31:50.784317Z",
     "iopub.status.idle": "2021-12-05T17:31:50.788787Z",
     "shell.execute_reply": "2021-12-05T17:31:50.788125Z",
     "shell.execute_reply.started": "2021-12-04T14:14:02.791985Z"
    },
    "papermill": {
     "duration": 0.090498,
     "end_time": "2021-12-05T17:31:50.788930",
     "exception": false,
     "start_time": "2021-12-05T17:31:50.698432",
     "status": "completed"
    },
    "tags": []
   },
   "outputs": [],
   "source": [
    "app.drop(axis=0 ,index=i7, inplace=True)"
   ]
  },
  {
   "cell_type": "code",
   "execution_count": 30,
   "id": "bc0db03d",
   "metadata": {
    "execution": {
     "iopub.execute_input": "2021-12-05T17:31:50.957359Z",
     "iopub.status.busy": "2021-12-05T17:31:50.956619Z",
     "iopub.status.idle": "2021-12-05T17:31:50.959219Z",
     "shell.execute_reply": "2021-12-05T17:31:50.959708Z",
     "shell.execute_reply.started": "2021-12-04T14:14:02.806061Z"
    },
    "papermill": {
     "duration": 0.09043,
     "end_time": "2021-12-05T17:31:50.959873",
     "exception": false,
     "start_time": "2021-12-05T17:31:50.869443",
     "status": "completed"
    },
    "tags": []
   },
   "outputs": [
    {
     "data": {
      "text/plain": [
       "(9338, 13)"
      ]
     },
     "execution_count": 30,
     "metadata": {},
     "output_type": "execute_result"
    }
   ],
   "source": [
    "app.shape"
   ]
  },
  {
   "cell_type": "markdown",
   "id": "b1b5175a",
   "metadata": {
    "papermill": {
     "duration": 0.084815,
     "end_time": "2021-12-05T17:31:51.129625",
     "exception": false,
     "start_time": "2021-12-05T17:31:51.044810",
     "status": "completed"
    },
    "tags": []
   },
   "source": [
    "### 2.Reviews\n",
    "Very few apps have very high number of reviews. \n",
    "These are all star apps that don’t help with the analysis and, in fact, will skew it. \n",
    "Dropping records having more than 2 million reviews."
   ]
  },
  {
   "cell_type": "code",
   "execution_count": 31,
   "id": "8c93cfbc",
   "metadata": {
    "execution": {
     "iopub.execute_input": "2021-12-05T17:31:51.304058Z",
     "iopub.status.busy": "2021-12-05T17:31:51.299827Z",
     "iopub.status.idle": "2021-12-05T17:31:51.306884Z",
     "shell.execute_reply": "2021-12-05T17:31:51.307403Z",
     "shell.execute_reply.started": "2021-12-04T14:14:02.81813Z"
    },
    "papermill": {
     "duration": 0.092726,
     "end_time": "2021-12-05T17:31:51.307583",
     "exception": false,
     "start_time": "2021-12-05T17:31:51.214857",
     "status": "completed"
    },
    "tags": []
   },
   "outputs": [
    {
     "data": {
      "text/plain": [
       "453"
      ]
     },
     "execution_count": 31,
     "metadata": {},
     "output_type": "execute_result"
    }
   ],
   "source": [
    "len(app[app.Reviews >=2000000])"
   ]
  },
  {
   "cell_type": "code",
   "execution_count": 32,
   "id": "a8f52a17",
   "metadata": {
    "execution": {
     "iopub.execute_input": "2021-12-05T17:31:51.481380Z",
     "iopub.status.busy": "2021-12-05T17:31:51.480650Z",
     "iopub.status.idle": "2021-12-05T17:31:51.482820Z",
     "shell.execute_reply": "2021-12-05T17:31:51.483332Z",
     "shell.execute_reply.started": "2021-12-04T14:14:02.832886Z"
    },
    "papermill": {
     "duration": 0.090209,
     "end_time": "2021-12-05T17:31:51.483523",
     "exception": false,
     "start_time": "2021-12-05T17:31:51.393314",
     "status": "completed"
    },
    "tags": []
   },
   "outputs": [],
   "source": [
    "i8=app[app.Reviews >=2000000].Reviews.index\n"
   ]
  },
  {
   "cell_type": "code",
   "execution_count": 33,
   "id": "a010926c",
   "metadata": {
    "execution": {
     "iopub.execute_input": "2021-12-05T17:31:51.655638Z",
     "iopub.status.busy": "2021-12-05T17:31:51.654655Z",
     "iopub.status.idle": "2021-12-05T17:31:51.660871Z",
     "shell.execute_reply": "2021-12-05T17:31:51.661461Z",
     "shell.execute_reply.started": "2021-12-04T14:14:02.843237Z"
    },
    "papermill": {
     "duration": 0.093966,
     "end_time": "2021-12-05T17:31:51.661633",
     "exception": false,
     "start_time": "2021-12-05T17:31:51.567667",
     "status": "completed"
    },
    "tags": []
   },
   "outputs": [],
   "source": [
    "app.drop(axis=0 ,index=i8, inplace=True)"
   ]
  },
  {
   "cell_type": "code",
   "execution_count": 34,
   "id": "b170f814",
   "metadata": {
    "execution": {
     "iopub.execute_input": "2021-12-05T17:31:51.831611Z",
     "iopub.status.busy": "2021-12-05T17:31:51.830639Z",
     "iopub.status.idle": "2021-12-05T17:31:51.835758Z",
     "shell.execute_reply": "2021-12-05T17:31:51.836396Z",
     "shell.execute_reply.started": "2021-12-04T14:14:02.857507Z"
    },
    "papermill": {
     "duration": 0.091474,
     "end_time": "2021-12-05T17:31:51.836570",
     "exception": false,
     "start_time": "2021-12-05T17:31:51.745096",
     "status": "completed"
    },
    "tags": []
   },
   "outputs": [
    {
     "data": {
      "text/plain": [
       "(8885, 13)"
      ]
     },
     "execution_count": 34,
     "metadata": {},
     "output_type": "execute_result"
    }
   ],
   "source": [
    "app.shape"
   ]
  },
  {
   "cell_type": "markdown",
   "id": "447f4c74",
   "metadata": {
    "papermill": {
     "duration": 0.081133,
     "end_time": "2021-12-05T17:31:52.001526",
     "exception": false,
     "start_time": "2021-12-05T17:31:51.920393",
     "status": "completed"
    },
    "tags": []
   },
   "source": [
    "### 3.Installs\n",
    "There seems to be some outliers in this field too. \n",
    " Apps having very high number of installs should be dropped from the analysis.\n",
    "Finding out the different percentiles – 10, 25, 50, 70, 90, 95, 99\n",
    "Deciding a threshold as cutoff for outlier and drop records having values more than that"
   ]
  },
  {
   "cell_type": "code",
   "execution_count": 35,
   "id": "86a6a18b",
   "metadata": {
    "execution": {
     "iopub.execute_input": "2021-12-05T17:31:52.170876Z",
     "iopub.status.busy": "2021-12-05T17:31:52.169871Z",
     "iopub.status.idle": "2021-12-05T17:31:52.180320Z",
     "shell.execute_reply": "2021-12-05T17:31:52.179758Z",
     "shell.execute_reply.started": "2021-12-04T14:14:02.870048Z"
    },
    "papermill": {
     "duration": 0.094743,
     "end_time": "2021-12-05T17:31:52.180472",
     "exception": false,
     "start_time": "2021-12-05T17:31:52.085729",
     "status": "completed"
    },
    "tags": []
   },
   "outputs": [
    {
     "data": {
      "text/plain": [
       "0.10         1000.0\n",
       "0.25        10000.0\n",
       "0.50       500000.0\n",
       "0.75      5000000.0\n",
       "0.90     10000000.0\n",
       "0.95     10000000.0\n",
       "0.99    100000000.0\n",
       "Name: Installs, dtype: float64"
      ]
     },
     "execution_count": 35,
     "metadata": {},
     "output_type": "execute_result"
    }
   ],
   "source": [
    "app.Installs.quantile([0.1,0.25,0.50,0.75,0.90,0.95,0.99])"
   ]
  },
  {
   "cell_type": "code",
   "execution_count": 36,
   "id": "03b429d0",
   "metadata": {
    "execution": {
     "iopub.execute_input": "2021-12-05T17:31:52.348863Z",
     "iopub.status.busy": "2021-12-05T17:31:52.347882Z",
     "iopub.status.idle": "2021-12-05T17:31:52.355528Z",
     "shell.execute_reply": "2021-12-05T17:31:52.356001Z",
     "shell.execute_reply.started": "2021-12-04T14:14:02.888212Z"
    },
    "papermill": {
     "duration": 0.092938,
     "end_time": "2021-12-05T17:31:52.356204",
     "exception": false,
     "start_time": "2021-12-05T17:31:52.263266",
     "status": "completed"
    },
    "tags": []
   },
   "outputs": [],
   "source": [
    "min_threshold,max_threshold=app.Installs.quantile([0.05,0.95])\n",
    "inp=app[(app.Installs>min_threshold) & (app.Installs<max_threshold)]"
   ]
  },
  {
   "cell_type": "raw",
   "id": "b558c4dc",
   "metadata": {
    "papermill": {
     "duration": 0.082554,
     "end_time": "2021-12-05T17:31:52.523994",
     "exception": false,
     "start_time": "2021-12-05T17:31:52.441440",
     "status": "completed"
    },
    "tags": []
   },
   "source": [
    "Choosing the minimum threshold as 5% and maximum threshold as 95%"
   ]
  },
  {
   "cell_type": "code",
   "execution_count": 37,
   "id": "3f700df4",
   "metadata": {
    "execution": {
     "iopub.execute_input": "2021-12-05T17:31:52.692052Z",
     "iopub.status.busy": "2021-12-05T17:31:52.691230Z",
     "iopub.status.idle": "2021-12-05T17:31:52.694452Z",
     "shell.execute_reply": "2021-12-05T17:31:52.694925Z",
     "shell.execute_reply.started": "2021-12-04T14:14:02.904648Z"
    },
    "papermill": {
     "duration": 0.08968,
     "end_time": "2021-12-05T17:31:52.695107",
     "exception": false,
     "start_time": "2021-12-05T17:31:52.605427",
     "status": "completed"
    },
    "tags": []
   },
   "outputs": [
    {
     "data": {
      "text/plain": [
       "(6618, 13)"
      ]
     },
     "execution_count": 37,
     "metadata": {},
     "output_type": "execute_result"
    }
   ],
   "source": [
    "inp.shape"
   ]
  },
  {
   "cell_type": "markdown",
   "id": "c26458d2",
   "metadata": {
    "papermill": {
     "duration": 0.083891,
     "end_time": "2021-12-05T17:31:52.860824",
     "exception": false,
     "start_time": "2021-12-05T17:31:52.776933",
     "status": "completed"
    },
    "tags": []
   },
   "source": [
    "## 7.Bivariate analysis"
   ]
  },
  {
   "cell_type": "markdown",
   "id": "4982cb1c",
   "metadata": {
    "papermill": {
     "duration": 0.083834,
     "end_time": "2021-12-05T17:31:53.026957",
     "exception": false,
     "start_time": "2021-12-05T17:31:52.943123",
     "status": "completed"
    },
    "tags": []
   },
   "source": [
    "### 1.Scatter plot/joinplot for Rating vs. Price"
   ]
  },
  {
   "cell_type": "code",
   "execution_count": 38,
   "id": "4314288e",
   "metadata": {
    "execution": {
     "iopub.execute_input": "2021-12-05T17:31:53.224601Z",
     "iopub.status.busy": "2021-12-05T17:31:53.198744Z",
     "iopub.status.idle": "2021-12-05T17:31:54.115039Z",
     "shell.execute_reply": "2021-12-05T17:31:54.115660Z",
     "shell.execute_reply.started": "2021-12-04T14:14:02.917301Z"
    },
    "papermill": {
     "duration": 1.004637,
     "end_time": "2021-12-05T17:31:54.115840",
     "exception": false,
     "start_time": "2021-12-05T17:31:53.111203",
     "status": "completed"
    },
    "tags": []
   },
   "outputs": [
    {
     "data": {
      "text/plain": [
       "Text(40.25, 0.5, 'Rating')"
      ]
     },
     "execution_count": 38,
     "metadata": {},
     "output_type": "execute_result"
    },
    {
     "data": {
      "image/png": "[encoded data removed]",
      "text/plain": [
       "<Figure size 576x576 with 3 Axes>"
      ]
     },
     "metadata": {
      "needs_background": "light"
     },
     "output_type": "display_data"
    }
   ],
   "source": [
    "plt.rcParams['xtick.labelsize'] = 13\n",
    "plt.rcParams['ytick.labelsize'] = 13\n",
    "j=sns.jointplot(y = \"Rating\", x = \"Price\", data = inp,height=8)\n",
    "j.fig.suptitle(\"Rating vs Price\",fontsize=30)\n",
    "j.ax_joint.set_xlabel('Price(USD)',fontsize=20)\n",
    "j.ax_joint.set_ylabel('Rating',fontsize=20)"
   ]
  },
  {
   "cell_type": "raw",
   "id": "62cfa8e9",
   "metadata": {
    "papermill": {
     "duration": 0.085864,
     "end_time": "2021-12-05T17:31:54.287364",
     "exception": false,
     "start_time": "2021-12-05T17:31:54.201500",
     "status": "completed"
    },
    "tags": []
   },
   "source": [
    "Most of the Free apps have higher Rating.We can observe here that the Rating does not increase with price of the app. "
   ]
  },
  {
   "cell_type": "markdown",
   "id": "9efaafda",
   "metadata": {
    "papermill": {
     "duration": 0.084846,
     "end_time": "2021-12-05T17:31:54.455910",
     "exception": false,
     "start_time": "2021-12-05T17:31:54.371064",
     "status": "completed"
    },
    "tags": []
   },
   "source": [
    "### 2. Scatter plot/joinplot for Rating vs. Size"
   ]
  },
  {
   "cell_type": "code",
   "execution_count": 39,
   "id": "ec59efd6",
   "metadata": {
    "execution": {
     "iopub.execute_input": "2021-12-05T17:31:54.630596Z",
     "iopub.status.busy": "2021-12-05T17:31:54.629519Z",
     "iopub.status.idle": "2021-12-05T17:31:55.456210Z",
     "shell.execute_reply": "2021-12-05T17:31:55.455414Z",
     "shell.execute_reply.started": "2021-12-04T14:14:03.904626Z"
    },
    "papermill": {
     "duration": 0.917332,
     "end_time": "2021-12-05T17:31:55.456389",
     "exception": false,
     "start_time": "2021-12-05T17:31:54.539057",
     "status": "completed"
    },
    "tags": []
   },
   "outputs": [
    {
     "data": {
      "text/plain": [
       "Text(40.25, 0.5, 'Rating')"
      ]
     },
     "execution_count": 39,
     "metadata": {},
     "output_type": "execute_result"
    },
    {
     "data": {
      "image/png": "[encoded data removed]",
      "text/plain": [
       "<Figure size 576x576 with 3 Axes>"
      ]
     },
     "metadata": {
      "needs_background": "light"
     },
     "output_type": "display_data"
    }
   ],
   "source": [
    "plt.rcParams['xtick.labelsize'] = 13\n",
    "plt.rcParams['ytick.labelsize'] = 13\n",
    "j=sns.jointplot(y = \"Rating\", x = \"Size\", data = inp,height=8)\n",
    "j.fig.suptitle(\"Rating vs Size\",fontsize=30)\n",
    "j.ax_joint.set_xlabel('Size(Kb)',fontsize=20)\n",
    "j.ax_joint.set_ylabel('Rating',fontsize=20)"
   ]
  },
  {
   "cell_type": "raw",
   "id": "61f1df7a",
   "metadata": {
    "papermill": {
     "duration": 0.087672,
     "end_time": "2021-12-05T17:31:55.634105",
     "exception": false,
     "start_time": "2021-12-05T17:31:55.546433",
     "status": "completed"
    },
    "tags": []
   },
   "source": [
    "The lighter apps are rated higher than the heavier apps."
   ]
  },
  {
   "cell_type": "markdown",
   "id": "1712bae2",
   "metadata": {
    "papermill": {
     "duration": 0.088003,
     "end_time": "2021-12-05T17:31:55.810757",
     "exception": false,
     "start_time": "2021-12-05T17:31:55.722754",
     "status": "completed"
    },
    "tags": []
   },
   "source": [
    "### 3.Scatter plot/joinplot for Rating vs. Reviews"
   ]
  },
  {
   "cell_type": "code",
   "execution_count": 40,
   "id": "d3dbef0a",
   "metadata": {
    "execution": {
     "iopub.execute_input": "2021-12-05T17:31:56.014490Z",
     "iopub.status.busy": "2021-12-05T17:31:55.991496Z",
     "iopub.status.idle": "2021-12-05T17:31:57.613264Z",
     "shell.execute_reply": "2021-12-05T17:31:57.613757Z",
     "shell.execute_reply.started": "2021-12-04T14:14:04.740143Z"
    },
    "papermill": {
     "duration": 1.714055,
     "end_time": "2021-12-05T17:31:57.613929",
     "exception": false,
     "start_time": "2021-12-05T17:31:55.899874",
     "status": "completed"
    },
    "tags": []
   },
   "outputs": [
    {
     "data": {
      "text/plain": [
       "Text(40.25, 0.5, 'Rating')"
      ]
     },
     "execution_count": 40,
     "metadata": {},
     "output_type": "execute_result"
    },
    {
     "data": {
      "image/png": "[encoded data removed]",
      "text/plain": [
       "<Figure size 576x576 with 3 Axes>"
      ]
     },
     "metadata": {
      "needs_background": "light"
     },
     "output_type": "display_data"
    }
   ],
   "source": [
    "plt.rcParams['xtick.labelsize'] = 13\n",
    "plt.rcParams['ytick.labelsize'] = 13\n",
    "j=sns.jointplot(y = \"Rating\", x = \"Reviews\", data = inp,height=8)\n",
    "j.fig.suptitle(\"Rating vs Reviews\",fontsize=30)\n",
    "j.ax_joint.set_xlabel('Reviews',fontsize=20)\n",
    "j.ax_joint.set_ylabel('Rating',fontsize=20)"
   ]
  },
  {
   "cell_type": "raw",
   "id": "cff3d912",
   "metadata": {
    "papermill": {
     "duration": 0.090381,
     "end_time": "2021-12-05T17:31:57.794860",
     "exception": false,
     "start_time": "2021-12-05T17:31:57.704479",
     "status": "completed"
    },
    "tags": []
   },
   "source": [
    "More review doesnt mean a better rating always as we can observe that lower reviews have been rated high."
   ]
  },
  {
   "cell_type": "markdown",
   "id": "e58e715b",
   "metadata": {
    "papermill": {
     "duration": 0.089891,
     "end_time": "2021-12-05T17:31:57.975458",
     "exception": false,
     "start_time": "2021-12-05T17:31:57.885567",
     "status": "completed"
    },
    "tags": []
   },
   "source": [
    "### 4.Boxplot for Rating vs. Content Rating"
   ]
  },
  {
   "cell_type": "code",
   "execution_count": 41,
   "id": "3354d36a",
   "metadata": {
    "execution": {
     "iopub.execute_input": "2021-12-05T17:31:58.168397Z",
     "iopub.status.busy": "2021-12-05T17:31:58.167691Z",
     "iopub.status.idle": "2021-12-05T17:31:58.493571Z",
     "shell.execute_reply": "2021-12-05T17:31:58.494076Z",
     "shell.execute_reply.started": "2021-12-04T14:14:06.37516Z"
    },
    "papermill": {
     "duration": 0.427927,
     "end_time": "2021-12-05T17:31:58.494276",
     "exception": false,
     "start_time": "2021-12-05T17:31:58.066349",
     "status": "completed"
    },
    "tags": []
   },
   "outputs": [
    {
     "data": {
      "image/png": "[encoded data removed]",
      "text/plain": [
       "<Figure size 1152x432 with 1 Axes>"
      ]
     },
     "metadata": {
      "needs_background": "light"
     },
     "output_type": "display_data"
    }
   ],
   "source": [
    "plt.figure(figsize=(16,6))\n",
    "h=sns.boxplot( x='Content Rating',y='Rating',data=inp)\n",
    "h.axes.set_title(\"Rating vs Content Rating\",fontsize=30)\n",
    "h.set_xlabel(\"Content Rating\",fontsize=20)\n",
    "h.set_ylabel(\"Rating\",fontsize=20)\n",
    "h.tick_params(labelsize=13)"
   ]
  },
  {
   "cell_type": "raw",
   "id": "5c8b3a44",
   "metadata": {
    "papermill": {
     "duration": 0.090113,
     "end_time": "2021-12-05T17:31:58.673480",
     "exception": false,
     "start_time": "2021-12-05T17:31:58.583367",
     "status": "completed"
    },
    "tags": []
   },
   "source": [
    "The mean of rating of the Adult only 18+ is slightly higher than other contents.\n",
    "Everyone 10+ content apps come at the second place."
   ]
  },
  {
   "cell_type": "markdown",
   "id": "d99c221a",
   "metadata": {
    "papermill": {
     "duration": 0.089044,
     "end_time": "2021-12-05T17:31:58.852333",
     "exception": false,
     "start_time": "2021-12-05T17:31:58.763289",
     "status": "completed"
    },
    "tags": []
   },
   "source": [
    "### 5.Boxplot for Rating vs. Category"
   ]
  },
  {
   "cell_type": "code",
   "execution_count": 42,
   "id": "8c8c7a9e",
   "metadata": {
    "execution": {
     "iopub.execute_input": "2021-12-05T17:31:59.037294Z",
     "iopub.status.busy": "2021-12-05T17:31:59.036594Z",
     "iopub.status.idle": "2021-12-05T17:32:00.061892Z",
     "shell.execute_reply": "2021-12-05T17:32:00.061241Z",
     "shell.execute_reply.started": "2021-12-04T14:14:06.717274Z"
    },
    "papermill": {
     "duration": 1.119081,
     "end_time": "2021-12-05T17:32:00.062035",
     "exception": false,
     "start_time": "2021-12-05T17:31:58.942954",
     "status": "completed"
    },
    "tags": []
   },
   "outputs": [
    {
     "data": {
      "image/png": "[encoded data removed]",
      "text/plain": [
       "<Figure size 1152x432 with 1 Axes>"
      ]
     },
     "metadata": {
      "needs_background": "light"
     },
     "output_type": "display_data"
    }
   ],
   "source": [
    "plt.figure(figsize=(16,6))\n",
    "h=sns.boxplot( x='Category',y='Rating',data=inp)\n",
    "h.axes.set_title(\"Rating vs Category\",fontsize=30)\n",
    "h.set_xlabel(\"Category\",fontsize=20)\n",
    "h.set_ylabel(\"Rating\",fontsize=20)\n",
    "h.tick_params(labelsize=13)\n",
    "plt.xticks(rotation=90);"
   ]
  },
  {
   "cell_type": "raw",
   "id": "69d33bbb",
   "metadata": {
    "papermill": {
     "duration": 0.094776,
     "end_time": "2021-12-05T17:32:00.252784",
     "exception": false,
     "start_time": "2021-12-05T17:32:00.158008",
     "status": "completed"
    },
    "tags": []
   },
   "source": [
    "Education category of apps have higher rating than all the others."
   ]
  },
  {
   "cell_type": "code",
   "execution_count": 43,
   "id": "f049551f",
   "metadata": {
    "execution": {
     "iopub.execute_input": "2021-12-05T17:32:00.450155Z",
     "iopub.status.busy": "2021-12-05T17:32:00.449445Z",
     "iopub.status.idle": "2021-12-05T17:32:00.463283Z",
     "shell.execute_reply": "2021-12-05T17:32:00.463724Z",
     "shell.execute_reply.started": "2021-12-04T14:14:07.762512Z"
    },
    "papermill": {
     "duration": 0.116071,
     "end_time": "2021-12-05T17:32:00.463906",
     "exception": false,
     "start_time": "2021-12-05T17:32:00.347835",
     "status": "completed"
    },
    "tags": []
   },
   "outputs": [
    {
     "data": {
      "text/html": [
       "<div>\n",
       "<style scoped>\n",
       "    .dataframe tbody tr th:only-of-type {\n",
       "        vertical-align: middle;\n",
       "    }\n",
       "\n",
       "    .dataframe tbody tr th {\n",
       "        vertical-align: top;\n",
       "    }\n",
       "\n",
       "    .dataframe thead th {\n",
       "        text-align: right;\n",
       "    }\n",
       "</style>\n",
       "<table border=\"1\" class=\"dataframe\">\n",
       "  <thead>\n",
       "    <tr style=\"text-align: right;\">\n",
       "      <th></th>\n",
       "      <th>Category</th>\n",
       "      <th>Rating</th>\n",
       "      <th>Reviews</th>\n",
       "      <th>Size</th>\n",
       "      <th>Installs</th>\n",
       "      <th>Price</th>\n",
       "    </tr>\n",
       "  </thead>\n",
       "  <tbody>\n",
       "    <tr>\n",
       "      <th>8</th>\n",
       "      <td>EDUCATION</td>\n",
       "      <td>4.363636</td>\n",
       "      <td>38841.975207</td>\n",
       "      <td>20602.355522</td>\n",
       "      <td>1.416132e+06</td>\n",
       "      <td>0.148430</td>\n",
       "    </tr>\n",
       "    <tr>\n",
       "      <th>10</th>\n",
       "      <td>EVENTS</td>\n",
       "      <td>4.358824</td>\n",
       "      <td>4720.294118</td>\n",
       "      <td>13704.820433</td>\n",
       "      <td>4.690000e+05</td>\n",
       "      <td>0.000000</td>\n",
       "    </tr>\n",
       "    <tr>\n",
       "      <th>0</th>\n",
       "      <td>ART_AND_DESIGN</td>\n",
       "      <td>4.355556</td>\n",
       "      <td>8601.018519</td>\n",
       "      <td>12232.215837</td>\n",
       "      <td>4.486667e+05</td>\n",
       "      <td>0.110556</td>\n",
       "    </tr>\n",
       "  </tbody>\n",
       "</table>\n",
       "</div>"
      ],
      "text/plain": [
       "          Category    Rating       Reviews          Size      Installs  \\\n",
       "8        EDUCATION  4.363636  38841.975207  20602.355522  1.416132e+06   \n",
       "10          EVENTS  4.358824   4720.294118  13704.820433  4.690000e+05   \n",
       "0   ART_AND_DESIGN  4.355556   8601.018519  12232.215837  4.486667e+05   \n",
       "\n",
       "       Price  \n",
       "8   0.148430  \n",
       "10  0.000000  \n",
       "0   0.110556  "
      ]
     },
     "execution_count": 43,
     "metadata": {},
     "output_type": "execute_result"
    }
   ],
   "source": [
    "groupCat = inp.groupby('Category')\n",
    "mean_df=groupCat.mean()\n",
    "mean_df = mean_df.reset_index()\n",
    "mean_df.sort_values(by='Rating',ascending=False).head(3)"
   ]
  },
  {
   "cell_type": "code",
   "execution_count": 44,
   "id": "66db138b",
   "metadata": {
    "execution": {
     "iopub.execute_input": "2021-12-05T17:32:00.671408Z",
     "iopub.status.busy": "2021-12-05T17:32:00.670616Z",
     "iopub.status.idle": "2021-12-05T17:32:00.675839Z",
     "shell.execute_reply": "2021-12-05T17:32:00.676550Z",
     "shell.execute_reply.started": "2021-12-04T14:14:07.785899Z"
    },
    "papermill": {
     "duration": 0.119906,
     "end_time": "2021-12-05T17:32:00.676793",
     "exception": false,
     "start_time": "2021-12-05T17:32:00.556887",
     "status": "completed"
    },
    "tags": []
   },
   "outputs": [],
   "source": [
    "inp1=inp.copy(deep=True)"
   ]
  },
  {
   "cell_type": "markdown",
   "id": "088cac45",
   "metadata": {
    "papermill": {
     "duration": 0.09209,
     "end_time": "2021-12-05T17:32:00.866496",
     "exception": false,
     "start_time": "2021-12-05T17:32:00.774406",
     "status": "completed"
    },
    "tags": []
   },
   "source": [
    "## 8. Data preprocessing"
   ]
  },
  {
   "cell_type": "markdown",
   "id": "fd3842b3",
   "metadata": {
    "papermill": {
     "duration": 0.092318,
     "end_time": "2021-12-05T17:32:01.052507",
     "exception": false,
     "start_time": "2021-12-05T17:32:00.960189",
     "status": "completed"
    },
    "tags": []
   },
   "source": [
    "### 1.Reviews and Install \n",
    "Reviews and Install have some values that are still relatively very high.\n",
    "Before building a linear regression model, we need to reduce the skew. \n",
    "Applying log transformation (np.log1p) to Reviews and Installs."
   ]
  },
  {
   "cell_type": "code",
   "execution_count": 45,
   "id": "eb1eab75",
   "metadata": {
    "execution": {
     "iopub.execute_input": "2021-12-05T17:32:01.240458Z",
     "iopub.status.busy": "2021-12-05T17:32:01.239789Z",
     "iopub.status.idle": "2021-12-05T17:32:01.245144Z",
     "shell.execute_reply": "2021-12-05T17:32:01.245738Z",
     "shell.execute_reply.started": "2021-12-04T14:14:07.794153Z"
    },
    "papermill": {
     "duration": 0.100961,
     "end_time": "2021-12-05T17:32:01.245909",
     "exception": false,
     "start_time": "2021-12-05T17:32:01.144948",
     "status": "completed"
    },
    "tags": []
   },
   "outputs": [],
   "source": [
    "inp1['Installs']= np.log1p(inp1['Installs'])\n",
    "inp1['Reviews']= np.log1p(inp1['Reviews'])"
   ]
  },
  {
   "cell_type": "code",
   "execution_count": 46,
   "id": "1a52d04f",
   "metadata": {
    "execution": {
     "iopub.execute_input": "2021-12-05T17:32:01.434406Z",
     "iopub.status.busy": "2021-12-05T17:32:01.433773Z",
     "iopub.status.idle": "2021-12-05T17:32:01.752406Z",
     "shell.execute_reply": "2021-12-05T17:32:01.752921Z",
     "shell.execute_reply.started": "2021-12-04T14:14:07.811535Z"
    },
    "papermill": {
     "duration": 0.414643,
     "end_time": "2021-12-05T17:32:01.753109",
     "exception": false,
     "start_time": "2021-12-05T17:32:01.338466",
     "status": "completed"
    },
    "tags": []
   },
   "outputs": [
    {
     "data": {
      "text/plain": [
       "Text(0.5, 1.0, 'Reviews')"
      ]
     },
     "execution_count": 46,
     "metadata": {},
     "output_type": "execute_result"
    },
    {
     "data": {
      "image/png": "[encoded data removed]",
      "text/plain": [
       "<Figure size 1296x720 with 2 Axes>"
      ]
     },
     "metadata": {
      "needs_background": "light"
     },
     "output_type": "display_data"
    }
   ],
   "source": [
    "fig, axes = plt.subplots(1,2, figsize=(18, 10))\n",
    "fig.suptitle('Box plot of Installs and Reviews after applying log transformation',fontsize=30)\n",
    "sns.boxplot( inp1.Installs,ax=axes[0])\n",
    "sns.boxplot( inp1.Reviews,ax=axes[1],)\n",
    "axes[0].set_title(\"Installs\",fontsize=20)\n",
    "axes[1].set_title(\"Reviews\",fontsize=20)"
   ]
  },
  {
   "cell_type": "markdown",
   "id": "8d7332cc",
   "metadata": {
    "papermill": {
     "duration": 0.093696,
     "end_time": "2021-12-05T17:32:01.941096",
     "exception": false,
     "start_time": "2021-12-05T17:32:01.847400",
     "status": "completed"
    },
    "tags": []
   },
   "source": [
    "### 2.Dropping unwanted Columns \n",
    "Dropping columns App, Last Updated, Current Ver, Type and Android Ver.\n",
    "These variables are not useful for our task."
   ]
  },
  {
   "cell_type": "code",
   "execution_count": 47,
   "id": "6c98d2d8",
   "metadata": {
    "execution": {
     "iopub.execute_input": "2021-12-05T17:32:02.136692Z",
     "iopub.status.busy": "2021-12-05T17:32:02.135986Z",
     "iopub.status.idle": "2021-12-05T17:32:02.141989Z",
     "shell.execute_reply": "2021-12-05T17:32:02.142580Z",
     "shell.execute_reply.started": "2021-12-04T14:14:08.145973Z"
    },
    "papermill": {
     "duration": 0.10677,
     "end_time": "2021-12-05T17:32:02.142748",
     "exception": false,
     "start_time": "2021-12-05T17:32:02.035978",
     "status": "completed"
    },
    "tags": []
   },
   "outputs": [],
   "source": [
    "inp1.drop(['App','Last Updated','Current Ver','Android Ver','Type'],axis=1,inplace=True)\n"
   ]
  },
  {
   "cell_type": "code",
   "execution_count": 48,
   "id": "87e17986",
   "metadata": {
    "execution": {
     "iopub.execute_input": "2021-12-05T17:32:02.335763Z",
     "iopub.status.busy": "2021-12-05T17:32:02.335056Z",
     "iopub.status.idle": "2021-12-05T17:32:02.339690Z",
     "shell.execute_reply": "2021-12-05T17:32:02.340217Z",
     "shell.execute_reply.started": "2021-12-04T14:14:08.155039Z"
    },
    "papermill": {
     "duration": 0.103052,
     "end_time": "2021-12-05T17:32:02.340403",
     "exception": false,
     "start_time": "2021-12-05T17:32:02.237351",
     "status": "completed"
    },
    "tags": []
   },
   "outputs": [
    {
     "data": {
      "text/plain": [
       "(6618, 8)"
      ]
     },
     "execution_count": 48,
     "metadata": {},
     "output_type": "execute_result"
    }
   ],
   "source": [
    "inp1.shape"
   ]
  },
  {
   "cell_type": "code",
   "execution_count": 49,
   "id": "35b1e2a5",
   "metadata": {
    "execution": {
     "iopub.execute_input": "2021-12-05T17:32:02.533815Z",
     "iopub.status.busy": "2021-12-05T17:32:02.533201Z",
     "iopub.status.idle": "2021-12-05T17:32:02.548878Z",
     "shell.execute_reply": "2021-12-05T17:32:02.548357Z",
     "shell.execute_reply.started": "2021-12-04T14:14:08.171079Z"
    },
    "papermill": {
     "duration": 0.113562,
     "end_time": "2021-12-05T17:32:02.549025",
     "exception": false,
     "start_time": "2021-12-05T17:32:02.435463",
     "status": "completed"
    },
    "tags": []
   },
   "outputs": [
    {
     "data": {
      "text/html": [
       "<div>\n",
       "<style scoped>\n",
       "    .dataframe tbody tr th:only-of-type {\n",
       "        vertical-align: middle;\n",
       "    }\n",
       "\n",
       "    .dataframe tbody tr th {\n",
       "        vertical-align: top;\n",
       "    }\n",
       "\n",
       "    .dataframe thead th {\n",
       "        text-align: right;\n",
       "    }\n",
       "</style>\n",
       "<table border=\"1\" class=\"dataframe\">\n",
       "  <thead>\n",
       "    <tr style=\"text-align: right;\">\n",
       "      <th></th>\n",
       "      <th>Category</th>\n",
       "      <th>Rating</th>\n",
       "      <th>Reviews</th>\n",
       "      <th>Size</th>\n",
       "      <th>Installs</th>\n",
       "      <th>Price</th>\n",
       "      <th>Content Rating</th>\n",
       "      <th>Genres</th>\n",
       "    </tr>\n",
       "  </thead>\n",
       "  <tbody>\n",
       "    <tr>\n",
       "      <th>0</th>\n",
       "      <td>ART_AND_DESIGN</td>\n",
       "      <td>4.1</td>\n",
       "      <td>5.075174</td>\n",
       "      <td>19000.0</td>\n",
       "      <td>9.210440</td>\n",
       "      <td>0.0</td>\n",
       "      <td>Everyone</td>\n",
       "      <td>Art &amp; Design</td>\n",
       "    </tr>\n",
       "    <tr>\n",
       "      <th>1</th>\n",
       "      <td>ART_AND_DESIGN</td>\n",
       "      <td>3.9</td>\n",
       "      <td>6.875232</td>\n",
       "      <td>14000.0</td>\n",
       "      <td>13.122365</td>\n",
       "      <td>0.0</td>\n",
       "      <td>Everyone</td>\n",
       "      <td>Art &amp; Design;Pretend Play</td>\n",
       "    </tr>\n",
       "    <tr>\n",
       "      <th>2</th>\n",
       "      <td>ART_AND_DESIGN</td>\n",
       "      <td>4.7</td>\n",
       "      <td>11.379520</td>\n",
       "      <td>8700.0</td>\n",
       "      <td>15.424949</td>\n",
       "      <td>0.0</td>\n",
       "      <td>Everyone</td>\n",
       "      <td>Art &amp; Design</td>\n",
       "    </tr>\n",
       "    <tr>\n",
       "      <th>4</th>\n",
       "      <td>ART_AND_DESIGN</td>\n",
       "      <td>4.3</td>\n",
       "      <td>6.875232</td>\n",
       "      <td>2800.0</td>\n",
       "      <td>11.512935</td>\n",
       "      <td>0.0</td>\n",
       "      <td>Everyone</td>\n",
       "      <td>Art &amp; Design;Creativity</td>\n",
       "    </tr>\n",
       "    <tr>\n",
       "      <th>5</th>\n",
       "      <td>ART_AND_DESIGN</td>\n",
       "      <td>4.4</td>\n",
       "      <td>5.123964</td>\n",
       "      <td>5600.0</td>\n",
       "      <td>10.819798</td>\n",
       "      <td>0.0</td>\n",
       "      <td>Everyone</td>\n",
       "      <td>Art &amp; Design</td>\n",
       "    </tr>\n",
       "  </tbody>\n",
       "</table>\n",
       "</div>"
      ],
      "text/plain": [
       "         Category  Rating    Reviews     Size   Installs  Price  \\\n",
       "0  ART_AND_DESIGN     4.1   5.075174  19000.0   9.210440    0.0   \n",
       "1  ART_AND_DESIGN     3.9   6.875232  14000.0  13.122365    0.0   \n",
       "2  ART_AND_DESIGN     4.7  11.379520   8700.0  15.424949    0.0   \n",
       "4  ART_AND_DESIGN     4.3   6.875232   2800.0  11.512935    0.0   \n",
       "5  ART_AND_DESIGN     4.4   5.123964   5600.0  10.819798    0.0   \n",
       "\n",
       "  Content Rating                     Genres  \n",
       "0       Everyone               Art & Design  \n",
       "1       Everyone  Art & Design;Pretend Play  \n",
       "2       Everyone               Art & Design  \n",
       "4       Everyone    Art & Design;Creativity  \n",
       "5       Everyone               Art & Design  "
      ]
     },
     "execution_count": 49,
     "metadata": {},
     "output_type": "execute_result"
    }
   ],
   "source": [
    "inp1.head()"
   ]
  },
  {
   "cell_type": "markdown",
   "id": "731aa421",
   "metadata": {
    "papermill": {
     "duration": 0.097732,
     "end_time": "2021-12-05T17:32:02.741767",
     "exception": false,
     "start_time": "2021-12-05T17:32:02.644035",
     "status": "completed"
    },
    "tags": []
   },
   "source": [
    "### 3.Dummy Columns\n",
    "Getting the dummy columns for Category, Genres, and Content Rating.Dummy encoding is one way to convert character fields to numeric. Name of dataframe is inp2."
   ]
  },
  {
   "cell_type": "code",
   "execution_count": 50,
   "id": "4da7b2a4",
   "metadata": {
    "execution": {
     "iopub.execute_input": "2021-12-05T17:32:02.943804Z",
     "iopub.status.busy": "2021-12-05T17:32:02.942991Z",
     "iopub.status.idle": "2021-12-05T17:32:02.968013Z",
     "shell.execute_reply": "2021-12-05T17:32:02.968512Z",
     "shell.execute_reply.started": "2021-12-04T14:14:08.197606Z"
    },
    "papermill": {
     "duration": 0.129269,
     "end_time": "2021-12-05T17:32:02.968689",
     "exception": false,
     "start_time": "2021-12-05T17:32:02.839420",
     "status": "completed"
    },
    "tags": []
   },
   "outputs": [
    {
     "data": {
      "text/html": [
       "<div>\n",
       "<style scoped>\n",
       "    .dataframe tbody tr th:only-of-type {\n",
       "        vertical-align: middle;\n",
       "    }\n",
       "\n",
       "    .dataframe tbody tr th {\n",
       "        vertical-align: top;\n",
       "    }\n",
       "\n",
       "    .dataframe thead th {\n",
       "        text-align: right;\n",
       "    }\n",
       "</style>\n",
       "<table border=\"1\" class=\"dataframe\">\n",
       "  <thead>\n",
       "    <tr style=\"text-align: right;\">\n",
       "      <th></th>\n",
       "      <th>Rating</th>\n",
       "      <th>Reviews</th>\n",
       "      <th>Size</th>\n",
       "      <th>Installs</th>\n",
       "      <th>Price</th>\n",
       "      <th>Category_AUTO_AND_VEHICLES</th>\n",
       "      <th>Category_BEAUTY</th>\n",
       "      <th>Category_BOOKS_AND_REFERENCE</th>\n",
       "      <th>Category_BUSINESS</th>\n",
       "      <th>Category_COMICS</th>\n",
       "      <th>...</th>\n",
       "      <th>Genres_Strategy;Education</th>\n",
       "      <th>Genres_Tools</th>\n",
       "      <th>Genres_Travel &amp; Local</th>\n",
       "      <th>Genres_Travel &amp; Local;Action &amp; Adventure</th>\n",
       "      <th>Genres_Trivia</th>\n",
       "      <th>Genres_Video Players &amp; Editors</th>\n",
       "      <th>Genres_Video Players &amp; Editors;Creativity</th>\n",
       "      <th>Genres_Video Players &amp; Editors;Music &amp; Video</th>\n",
       "      <th>Genres_Weather</th>\n",
       "      <th>Genres_Word</th>\n",
       "    </tr>\n",
       "  </thead>\n",
       "  <tbody>\n",
       "    <tr>\n",
       "      <th>0</th>\n",
       "      <td>4.1</td>\n",
       "      <td>5.075174</td>\n",
       "      <td>19000.0</td>\n",
       "      <td>9.210440</td>\n",
       "      <td>0.0</td>\n",
       "      <td>0</td>\n",
       "      <td>0</td>\n",
       "      <td>0</td>\n",
       "      <td>0</td>\n",
       "      <td>0</td>\n",
       "      <td>...</td>\n",
       "      <td>0</td>\n",
       "      <td>0</td>\n",
       "      <td>0</td>\n",
       "      <td>0</td>\n",
       "      <td>0</td>\n",
       "      <td>0</td>\n",
       "      <td>0</td>\n",
       "      <td>0</td>\n",
       "      <td>0</td>\n",
       "      <td>0</td>\n",
       "    </tr>\n",
       "    <tr>\n",
       "      <th>1</th>\n",
       "      <td>3.9</td>\n",
       "      <td>6.875232</td>\n",
       "      <td>14000.0</td>\n",
       "      <td>13.122365</td>\n",
       "      <td>0.0</td>\n",
       "      <td>0</td>\n",
       "      <td>0</td>\n",
       "      <td>0</td>\n",
       "      <td>0</td>\n",
       "      <td>0</td>\n",
       "      <td>...</td>\n",
       "      <td>0</td>\n",
       "      <td>0</td>\n",
       "      <td>0</td>\n",
       "      <td>0</td>\n",
       "      <td>0</td>\n",
       "      <td>0</td>\n",
       "      <td>0</td>\n",
       "      <td>0</td>\n",
       "      <td>0</td>\n",
       "      <td>0</td>\n",
       "    </tr>\n",
       "    <tr>\n",
       "      <th>2</th>\n",
       "      <td>4.7</td>\n",
       "      <td>11.379520</td>\n",
       "      <td>8700.0</td>\n",
       "      <td>15.424949</td>\n",
       "      <td>0.0</td>\n",
       "      <td>0</td>\n",
       "      <td>0</td>\n",
       "      <td>0</td>\n",
       "      <td>0</td>\n",
       "      <td>0</td>\n",
       "      <td>...</td>\n",
       "      <td>0</td>\n",
       "      <td>0</td>\n",
       "      <td>0</td>\n",
       "      <td>0</td>\n",
       "      <td>0</td>\n",
       "      <td>0</td>\n",
       "      <td>0</td>\n",
       "      <td>0</td>\n",
       "      <td>0</td>\n",
       "      <td>0</td>\n",
       "    </tr>\n",
       "    <tr>\n",
       "      <th>4</th>\n",
       "      <td>4.3</td>\n",
       "      <td>6.875232</td>\n",
       "      <td>2800.0</td>\n",
       "      <td>11.512935</td>\n",
       "      <td>0.0</td>\n",
       "      <td>0</td>\n",
       "      <td>0</td>\n",
       "      <td>0</td>\n",
       "      <td>0</td>\n",
       "      <td>0</td>\n",
       "      <td>...</td>\n",
       "      <td>0</td>\n",
       "      <td>0</td>\n",
       "      <td>0</td>\n",
       "      <td>0</td>\n",
       "      <td>0</td>\n",
       "      <td>0</td>\n",
       "      <td>0</td>\n",
       "      <td>0</td>\n",
       "      <td>0</td>\n",
       "      <td>0</td>\n",
       "    </tr>\n",
       "    <tr>\n",
       "      <th>5</th>\n",
       "      <td>4.4</td>\n",
       "      <td>5.123964</td>\n",
       "      <td>5600.0</td>\n",
       "      <td>10.819798</td>\n",
       "      <td>0.0</td>\n",
       "      <td>0</td>\n",
       "      <td>0</td>\n",
       "      <td>0</td>\n",
       "      <td>0</td>\n",
       "      <td>0</td>\n",
       "      <td>...</td>\n",
       "      <td>0</td>\n",
       "      <td>0</td>\n",
       "      <td>0</td>\n",
       "      <td>0</td>\n",
       "      <td>0</td>\n",
       "      <td>0</td>\n",
       "      <td>0</td>\n",
       "      <td>0</td>\n",
       "      <td>0</td>\n",
       "      <td>0</td>\n",
       "    </tr>\n",
       "  </tbody>\n",
       "</table>\n",
       "<p>5 rows × 150 columns</p>\n",
       "</div>"
      ],
      "text/plain": [
       "   Rating    Reviews     Size   Installs  Price  Category_AUTO_AND_VEHICLES  \\\n",
       "0     4.1   5.075174  19000.0   9.210440    0.0                           0   \n",
       "1     3.9   6.875232  14000.0  13.122365    0.0                           0   \n",
       "2     4.7  11.379520   8700.0  15.424949    0.0                           0   \n",
       "4     4.3   6.875232   2800.0  11.512935    0.0                           0   \n",
       "5     4.4   5.123964   5600.0  10.819798    0.0                           0   \n",
       "\n",
       "   Category_BEAUTY  Category_BOOKS_AND_REFERENCE  Category_BUSINESS  \\\n",
       "0                0                             0                  0   \n",
       "1                0                             0                  0   \n",
       "2                0                             0                  0   \n",
       "4                0                             0                  0   \n",
       "5                0                             0                  0   \n",
       "\n",
       "   Category_COMICS  ...  Genres_Strategy;Education  Genres_Tools  \\\n",
       "0                0  ...                          0             0   \n",
       "1                0  ...                          0             0   \n",
       "2                0  ...                          0             0   \n",
       "4                0  ...                          0             0   \n",
       "5                0  ...                          0             0   \n",
       "\n",
       "   Genres_Travel & Local  Genres_Travel & Local;Action & Adventure  \\\n",
       "0                      0                                         0   \n",
       "1                      0                                         0   \n",
       "2                      0                                         0   \n",
       "4                      0                                         0   \n",
       "5                      0                                         0   \n",
       "\n",
       "   Genres_Trivia  Genres_Video Players & Editors  \\\n",
       "0              0                               0   \n",
       "1              0                               0   \n",
       "2              0                               0   \n",
       "4              0                               0   \n",
       "5              0                               0   \n",
       "\n",
       "   Genres_Video Players & Editors;Creativity  \\\n",
       "0                                          0   \n",
       "1                                          0   \n",
       "2                                          0   \n",
       "4                                          0   \n",
       "5                                          0   \n",
       "\n",
       "   Genres_Video Players & Editors;Music & Video  Genres_Weather  Genres_Word  \n",
       "0                                             0               0            0  \n",
       "1                                             0               0            0  \n",
       "2                                             0               0            0  \n",
       "4                                             0               0            0  \n",
       "5                                             0               0            0  \n",
       "\n",
       "[5 rows x 150 columns]"
      ]
     },
     "execution_count": 50,
     "metadata": {},
     "output_type": "execute_result"
    }
   ],
   "source": [
    "cat_cols = ['Category', 'Content Rating','Genres']\n",
    "inp2 = pd.get_dummies(inp1, columns=cat_cols, drop_first=True)\n",
    "inp2.head()"
   ]
  },
  {
   "cell_type": "markdown",
   "id": "965711e1",
   "metadata": {
    "papermill": {
     "duration": 0.096899,
     "end_time": "2021-12-05T17:32:03.161460",
     "exception": false,
     "start_time": "2021-12-05T17:32:03.064561",
     "status": "completed"
    },
    "tags": []
   },
   "source": [
    "## 9. Train test split  and apply 70-30 split. Name the new dataframes df_train and df_test."
   ]
  },
  {
   "cell_type": "code",
   "execution_count": 51,
   "id": "f251a24c",
   "metadata": {
    "execution": {
     "iopub.execute_input": "2021-12-05T17:32:03.362097Z",
     "iopub.status.busy": "2021-12-05T17:32:03.361411Z",
     "iopub.status.idle": "2021-12-05T17:32:03.369786Z",
     "shell.execute_reply": "2021-12-05T17:32:03.369241Z",
     "shell.execute_reply.started": "2021-12-04T14:14:08.238214Z"
    },
    "papermill": {
     "duration": 0.112012,
     "end_time": "2021-12-05T17:32:03.369923",
     "exception": false,
     "start_time": "2021-12-05T17:32:03.257911",
     "status": "completed"
    },
    "tags": []
   },
   "outputs": [
    {
     "data": {
      "text/plain": [
       "((4632, 150), (1986, 150))"
      ]
     },
     "execution_count": 51,
     "metadata": {},
     "output_type": "execute_result"
    }
   ],
   "source": [
    "df_train, df_test = train_test_split(inp2, train_size=0.70, random_state=0)\n",
    "df_train.shape,df_test.shape"
   ]
  },
  {
   "cell_type": "markdown",
   "id": "d816b2e9",
   "metadata": {
    "papermill": {
     "duration": 0.097151,
     "end_time": "2021-12-05T17:32:03.564411",
     "exception": false,
     "start_time": "2021-12-05T17:32:03.467260",
     "status": "completed"
    },
    "tags": []
   },
   "source": [
    "## 10. Separate the dataframes into X_train, y_train, X_test, and y_test."
   ]
  },
  {
   "cell_type": "code",
   "execution_count": 52,
   "id": "a2c0cf31",
   "metadata": {
    "execution": {
     "iopub.execute_input": "2021-12-05T17:32:03.763020Z",
     "iopub.status.busy": "2021-12-05T17:32:03.762382Z",
     "iopub.status.idle": "2021-12-05T17:32:03.765993Z",
     "shell.execute_reply": "2021-12-05T17:32:03.765484Z",
     "shell.execute_reply.started": "2021-12-04T14:14:08.253151Z"
    },
    "papermill": {
     "duration": 0.105006,
     "end_time": "2021-12-05T17:32:03.766153",
     "exception": false,
     "start_time": "2021-12-05T17:32:03.661147",
     "status": "completed"
    },
    "tags": []
   },
   "outputs": [],
   "source": [
    "y_train=df_train.Rating\n",
    "X_train=df_train.drop(['Rating'],axis=1)"
   ]
  },
  {
   "cell_type": "code",
   "execution_count": 53,
   "id": "5b2ca985",
   "metadata": {
    "execution": {
     "iopub.execute_input": "2021-12-05T17:32:03.964610Z",
     "iopub.status.busy": "2021-12-05T17:32:03.963752Z",
     "iopub.status.idle": "2021-12-05T17:32:03.967163Z",
     "shell.execute_reply": "2021-12-05T17:32:03.966528Z",
     "shell.execute_reply.started": "2021-12-04T14:14:08.261317Z"
    },
    "papermill": {
     "duration": 0.10488,
     "end_time": "2021-12-05T17:32:03.967305",
     "exception": false,
     "start_time": "2021-12-05T17:32:03.862425",
     "status": "completed"
    },
    "tags": []
   },
   "outputs": [],
   "source": [
    "y_test=df_test.Rating\n",
    "X_test=df_test.drop(['Rating'],axis=1)"
   ]
  },
  {
   "cell_type": "code",
   "execution_count": 54,
   "id": "0113c5e2",
   "metadata": {
    "execution": {
     "iopub.execute_input": "2021-12-05T17:32:04.164870Z",
     "iopub.status.busy": "2021-12-05T17:32:04.164226Z",
     "iopub.status.idle": "2021-12-05T17:32:04.167888Z",
     "shell.execute_reply": "2021-12-05T17:32:04.167267Z",
     "shell.execute_reply.started": "2021-12-04T14:14:08.282508Z"
    },
    "papermill": {
     "duration": 0.104148,
     "end_time": "2021-12-05T17:32:04.168028",
     "exception": false,
     "start_time": "2021-12-05T17:32:04.063880",
     "status": "completed"
    },
    "tags": []
   },
   "outputs": [
    {
     "data": {
      "text/plain": [
       "((4632, 149), (1986, 149))"
      ]
     },
     "execution_count": 54,
     "metadata": {},
     "output_type": "execute_result"
    }
   ],
   "source": [
    "X_train.shape,X_test.shape"
   ]
  },
  {
   "cell_type": "markdown",
   "id": "0731b028",
   "metadata": {
    "papermill": {
     "duration": 0.096486,
     "end_time": "2021-12-05T17:32:04.360702",
     "exception": false,
     "start_time": "2021-12-05T17:32:04.264216",
     "status": "completed"
    },
    "tags": []
   },
   "source": [
    "## 11.Model building\n"
   ]
  },
  {
   "cell_type": "markdown",
   "id": "57713495",
   "metadata": {
    "papermill": {
     "duration": 0.096389,
     "end_time": "2021-12-05T17:32:04.554384",
     "exception": false,
     "start_time": "2021-12-05T17:32:04.457995",
     "status": "completed"
    },
    "tags": []
   },
   "source": [
    "### Using linear regression as the technique\n",
    "\n",
    "### Report the R2 on the train set"
   ]
  },
  {
   "cell_type": "code",
   "execution_count": 55,
   "id": "e6acf3cf",
   "metadata": {
    "execution": {
     "iopub.execute_input": "2021-12-05T17:32:04.756929Z",
     "iopub.status.busy": "2021-12-05T17:32:04.756248Z",
     "iopub.status.idle": "2021-12-05T17:32:04.812882Z",
     "shell.execute_reply": "2021-12-05T17:32:04.813785Z",
     "shell.execute_reply.started": "2021-12-04T14:14:08.298642Z"
    },
    "papermill": {
     "duration": 0.163095,
     "end_time": "2021-12-05T17:32:04.814059",
     "exception": false,
     "start_time": "2021-12-05T17:32:04.650964",
     "status": "completed"
    },
    "tags": []
   },
   "outputs": [
    {
     "data": {
      "text/plain": [
       "LinearRegression()"
      ]
     },
     "execution_count": 55,
     "metadata": {},
     "output_type": "execute_result"
    }
   ],
   "source": [
    "reg =LinearRegression()\n",
    "reg.fit(X_train, y_train)"
   ]
  },
  {
   "cell_type": "code",
   "execution_count": 56,
   "id": "42d93ffa",
   "metadata": {
    "execution": {
     "iopub.execute_input": "2021-12-05T17:32:05.069448Z",
     "iopub.status.busy": "2021-12-05T17:32:05.068122Z",
     "iopub.status.idle": "2021-12-05T17:32:05.078096Z",
     "shell.execute_reply": "2021-12-05T17:32:05.079245Z",
     "shell.execute_reply.started": "2021-12-04T14:14:08.392723Z"
    },
    "papermill": {
     "duration": 0.116108,
     "end_time": "2021-12-05T17:32:05.079551",
     "exception": false,
     "start_time": "2021-12-05T17:32:04.963443",
     "status": "completed"
    },
    "tags": []
   },
   "outputs": [
    {
     "name": "stdout",
     "output_type": "stream",
     "text": [
      "\n",
      "R2 on train set: 0.17\n"
     ]
    }
   ],
   "source": [
    "y_pred= reg.predict(X_train)\n",
    "print('\\nR2 on train set: %.2f' % r2_score(y_train, y_pred).round(decimals=2))\n"
   ]
  },
  {
   "cell_type": "markdown",
   "id": "29b4e906",
   "metadata": {
    "papermill": {
     "duration": 0.098888,
     "end_time": "2021-12-05T17:32:05.333521",
     "exception": false,
     "start_time": "2021-12-05T17:32:05.234633",
     "status": "completed"
    },
    "tags": []
   },
   "source": [
    "## 12. Make predictions on test set and report R2."
   ]
  },
  {
   "cell_type": "code",
   "execution_count": 57,
   "id": "a2713c65",
   "metadata": {
    "execution": {
     "iopub.execute_input": "2021-12-05T17:32:05.535412Z",
     "iopub.status.busy": "2021-12-05T17:32:05.532889Z",
     "iopub.status.idle": "2021-12-05T17:32:05.541836Z",
     "shell.execute_reply": "2021-12-05T17:32:05.542671Z",
     "shell.execute_reply.started": "2021-12-04T14:14:08.426575Z"
    },
    "papermill": {
     "duration": 0.111203,
     "end_time": "2021-12-05T17:32:05.542948",
     "exception": false,
     "start_time": "2021-12-05T17:32:05.431745",
     "status": "completed"
    },
    "tags": []
   },
   "outputs": [],
   "source": [
    "y_pred2=reg.predict(X_test)\n",
    "r2=r2_score(y_test,y_pred2).round(decimals=2)"
   ]
  },
  {
   "cell_type": "code",
   "execution_count": 58,
   "id": "afcb0ed9",
   "metadata": {
    "execution": {
     "iopub.execute_input": "2021-12-05T17:32:05.800831Z",
     "iopub.status.busy": "2021-12-05T17:32:05.799734Z",
     "iopub.status.idle": "2021-12-05T17:32:05.804761Z",
     "shell.execute_reply": "2021-12-05T17:32:05.805369Z",
     "shell.execute_reply.started": "2021-12-04T14:14:08.450467Z"
    },
    "papermill": {
     "duration": 0.109278,
     "end_time": "2021-12-05T17:32:05.805541",
     "exception": false,
     "start_time": "2021-12-05T17:32:05.696263",
     "status": "completed"
    },
    "tags": []
   },
   "outputs": [
    {
     "name": "stdout",
     "output_type": "stream",
     "text": [
      "\n",
      "R2: 0.15\n",
      "\n",
      "Mean Squared Error: 0.23\n",
      "\n",
      "Root Mean Squared Error 0.47\n"
     ]
    }
   ],
   "source": [
    "print('\\nR2: %.2f' % r2)\n",
    "\n",
    "print('\\nMean Squared Error: %.2f'\n",
    "      % mean_squared_error(y_test, y_pred2))\n",
    "\n",
    "print(\"\\nRoot Mean Squared Error\",np.sqrt(mean_squared_error(y_test,y_pred2)).round(decimals=2))\n"
   ]
  },
  {
   "cell_type": "code",
   "execution_count": 59,
   "id": "a6dae42d",
   "metadata": {
    "execution": {
     "iopub.execute_input": "2021-12-05T17:32:06.007239Z",
     "iopub.status.busy": "2021-12-05T17:32:06.006181Z",
     "iopub.status.idle": "2021-12-05T17:32:06.022223Z",
     "shell.execute_reply": "2021-12-05T17:32:06.021511Z",
     "shell.execute_reply.started": "2021-12-04T14:14:08.461614Z"
    },
    "papermill": {
     "duration": 0.118221,
     "end_time": "2021-12-05T17:32:06.022371",
     "exception": false,
     "start_time": "2021-12-05T17:32:05.904150",
     "status": "completed"
    },
    "tags": []
   },
   "outputs": [
    {
     "data": {
      "text/html": [
       "<div>\n",
       "<style scoped>\n",
       "    .dataframe tbody tr th:only-of-type {\n",
       "        vertical-align: middle;\n",
       "    }\n",
       "\n",
       "    .dataframe tbody tr th {\n",
       "        vertical-align: top;\n",
       "    }\n",
       "\n",
       "    .dataframe thead th {\n",
       "        text-align: right;\n",
       "    }\n",
       "</style>\n",
       "<table border=\"1\" class=\"dataframe\">\n",
       "  <thead>\n",
       "    <tr style=\"text-align: right;\">\n",
       "      <th></th>\n",
       "      <th>Actual</th>\n",
       "      <th>Predicted</th>\n",
       "      <th>Difference</th>\n",
       "    </tr>\n",
       "  </thead>\n",
       "  <tbody>\n",
       "    <tr>\n",
       "      <th>7200</th>\n",
       "      <td>3.4</td>\n",
       "      <td>3.890554</td>\n",
       "      <td>-0.490554</td>\n",
       "    </tr>\n",
       "    <tr>\n",
       "      <th>9236</th>\n",
       "      <td>3.0</td>\n",
       "      <td>3.934422</td>\n",
       "      <td>-0.934422</td>\n",
       "    </tr>\n",
       "    <tr>\n",
       "      <th>2983</th>\n",
       "      <td>4.3</td>\n",
       "      <td>4.263932</td>\n",
       "      <td>0.036068</td>\n",
       "    </tr>\n",
       "    <tr>\n",
       "      <th>7146</th>\n",
       "      <td>4.2</td>\n",
       "      <td>3.917974</td>\n",
       "      <td>0.282026</td>\n",
       "    </tr>\n",
       "    <tr>\n",
       "      <th>5962</th>\n",
       "      <td>4.4</td>\n",
       "      <td>4.164622</td>\n",
       "      <td>0.235378</td>\n",
       "    </tr>\n",
       "    <tr>\n",
       "      <th>...</th>\n",
       "      <td>...</td>\n",
       "      <td>...</td>\n",
       "      <td>...</td>\n",
       "    </tr>\n",
       "    <tr>\n",
       "      <th>271</th>\n",
       "      <td>3.8</td>\n",
       "      <td>4.099635</td>\n",
       "      <td>-0.299635</td>\n",
       "    </tr>\n",
       "    <tr>\n",
       "      <th>2183</th>\n",
       "      <td>4.4</td>\n",
       "      <td>4.399944</td>\n",
       "      <td>0.000056</td>\n",
       "    </tr>\n",
       "    <tr>\n",
       "      <th>5726</th>\n",
       "      <td>3.5</td>\n",
       "      <td>4.106412</td>\n",
       "      <td>-0.606412</td>\n",
       "    </tr>\n",
       "    <tr>\n",
       "      <th>4298</th>\n",
       "      <td>4.5</td>\n",
       "      <td>4.077367</td>\n",
       "      <td>0.422633</td>\n",
       "    </tr>\n",
       "    <tr>\n",
       "      <th>2600</th>\n",
       "      <td>3.7</td>\n",
       "      <td>4.389873</td>\n",
       "      <td>-0.689873</td>\n",
       "    </tr>\n",
       "  </tbody>\n",
       "</table>\n",
       "<p>1986 rows × 3 columns</p>\n",
       "</div>"
      ],
      "text/plain": [
       "      Actual  Predicted  Difference\n",
       "7200     3.4   3.890554   -0.490554\n",
       "9236     3.0   3.934422   -0.934422\n",
       "2983     4.3   4.263932    0.036068\n",
       "7146     4.2   3.917974    0.282026\n",
       "5962     4.4   4.164622    0.235378\n",
       "...      ...        ...         ...\n",
       "271      3.8   4.099635   -0.299635\n",
       "2183     4.4   4.399944    0.000056\n",
       "5726     3.5   4.106412   -0.606412\n",
       "4298     4.5   4.077367    0.422633\n",
       "2600     3.7   4.389873   -0.689873\n",
       "\n",
       "[1986 rows x 3 columns]"
      ]
     },
     "execution_count": 59,
     "metadata": {},
     "output_type": "execute_result"
    }
   ],
   "source": [
    "dfReg = pd.DataFrame({'Actual': y_test, 'Predicted': y_pred2,'Difference':y_test-y_pred2})\n",
    "dfReg"
   ]
  },
  {
   "cell_type": "code",
   "execution_count": 60,
   "id": "bf699129",
   "metadata": {
    "execution": {
     "iopub.execute_input": "2021-12-05T17:32:06.235708Z",
     "iopub.status.busy": "2021-12-05T17:32:06.235025Z",
     "iopub.status.idle": "2021-12-05T17:32:08.911652Z",
     "shell.execute_reply": "2021-12-05T17:32:08.912607Z",
     "shell.execute_reply.started": "2021-12-04T14:14:08.493433Z"
    },
    "papermill": {
     "duration": 2.78716,
     "end_time": "2021-12-05T17:32:08.912907",
     "exception": false,
     "start_time": "2021-12-05T17:32:06.125747",
     "status": "completed"
    },
    "tags": []
   },
   "outputs": [],
   "source": [
    "avg_expected_loss, avg_bias, avg_var = bias_variance_decomp(reg, X_train.values,\n",
    "                                                            y_train.values, X_test.values,\n",
    "                                                            y_test.values,\n",
    "                                                            loss='mse',\n",
    "                                                            num_rounds=50,\n",
    "                                                            random_seed=20)\n",
    " "
   ]
  },
  {
   "cell_type": "code",
   "execution_count": 61,
   "id": "b7920a96",
   "metadata": {
    "execution": {
     "iopub.execute_input": "2021-12-05T17:32:09.171257Z",
     "iopub.status.busy": "2021-12-05T17:32:09.170484Z",
     "iopub.status.idle": "2021-12-05T17:32:09.173066Z",
     "shell.execute_reply": "2021-12-05T17:32:09.173535Z",
     "shell.execute_reply.started": "2021-12-04T14:14:11.162062Z"
    },
    "papermill": {
     "duration": 0.108753,
     "end_time": "2021-12-05T17:32:09.173709",
     "exception": false,
     "start_time": "2021-12-05T17:32:09.064956",
     "status": "completed"
    },
    "tags": []
   },
   "outputs": [
    {
     "name": "stdout",
     "output_type": "stream",
     "text": [
      "Average expected loss: 0.229\n",
      "Average bias: 0.226\n",
      "Average variance: 0.004\n"
     ]
    }
   ],
   "source": [
    "print('Average expected loss: %.3f' % avg_expected_loss)\n",
    "print('Average bias: %.3f' % avg_bias)\n",
    "print('Average variance: %.3f' % avg_var)"
   ]
  },
  {
   "attachments": {
    "11ed3234-cd77-4293-a68f-95fb3a5c7d61.png": {
     "image/png": "[encoded data removed]"
    }
   },
   "cell_type": "markdown",
   "id": "116226ce",
   "metadata": {
    "papermill": {
     "duration": 0.097976,
     "end_time": "2021-12-05T17:32:09.371581",
     "exception": false,
     "start_time": "2021-12-05T17:32:09.273605",
     "status": "completed"
    },
    "tags": []
   },
   "source": [
    "1.\tR-squared (r2 score) is a statistical measure of how close the data are to the fitted regression line. The r2 score here is 0.15 which is quite low for a linear regression model, but there is a definite correlation between the given features and the target variable Rating\n",
    "\n",
    "2.\tOne of the reasons for low r2 score could be strong multicollinearity between the features. This can be tackled by Principal Component Analysis as it reduces the dimensions and eliminates the multicollinearity by making the features linearly independent to each other. The multicollinearity can also be reduced by variable inflation factor process.\n",
    "\n",
    "3.\tThe mean squared error is 0.23 which is acceptable for our prediction model.\n",
    "\n",
    "\n",
    "4.\tThere is Underfitting in the model as there is high Bias and low Variance. Bias is the model’s inability to learn enough about the relationship between the model’s features and labels, while the variance captures the model’s inability to generalize on new, unseen examples. This model has high bias oversimplifying the relationship and is said to be underfit.\n",
    "\n",
    "Here is the dataframe of actual and predicted Rating of a app. We can observe that for some app the model predicts with zero error and has errors while predicting for others.\n",
    "\n",
    "![image.png](attachment:11ed3234-cd77-4293-a68f-95fb3a5c7d61.png)"
   ]
  }
 ],
 "metadata": {
  "kernelspec": {
   "display_name": "Python 3 (ipykernel)",
   "language": "python",
   "name": "python3"
  },
  "language_info": {
   "codemirror_mode": {
    "name": "ipython",
    "version": 3
   },
   "file_extension": ".py",
   "mimetype": "text/x-python",
   "name": "python",
   "nbconvert_exporter": "python",
   "pygments_lexer": "ipython3",
   "version": "3.9.12"
  },
  "papermill": {
   "default_parameters": {},
   "duration": 41.78789,
   "end_time": "2021-12-05T17:32:10.382299",
   "environment_variables": {},
   "exception": null,
   "input_path": "__notebook__.ipynb",
   "output_path": "__notebook__.ipynb",
   "parameters": {},
   "start_time": "2021-12-05T17:31:28.594409",
   "version": "2.3.3"
  }
 },
 "nbformat": 4,
 "nbformat_minor": 5
}
